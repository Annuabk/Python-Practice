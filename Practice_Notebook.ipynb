{
  "nbformat": 4,
  "nbformat_minor": 0,
  "metadata": {
    "colab": {
      "provenance": [],
      "authorship_tag": "ABX9TyOmvUQaVPn9ikrtbAL3skN1",
      "include_colab_link": true
    },
    "kernelspec": {
      "name": "python3",
      "display_name": "Python 3"
    },
    "language_info": {
      "name": "python"
    }
  },
  "cells": [
    {
      "cell_type": "markdown",
      "metadata": {
        "id": "view-in-github",
        "colab_type": "text"
      },
      "source": [
        "<a href=\"https://colab.research.google.com/github/DeepuBenson/Python/blob/main/Practice_Notebook.ipynb\" target=\"_parent\"><img src=\"https://colab.research.google.com/assets/colab-badge.svg\" alt=\"Open In Colab\"/></a>"
      ]
    },
    {
      "cell_type": "markdown",
      "source": [
        "**Feel free to modify the code!**\n"
      ],
      "metadata": {
        "id": "TTGwIS4WoyPv"
      }
    },
    {
      "cell_type": "markdown",
      "source": [
        "1. Python Arithmetic Operators"
      ],
      "metadata": {
        "id": "IzZyaaAUZ_On"
      }
    },
    {
      "cell_type": "code",
      "source": [
        "print(123+456) # Addition\n",
        "print(123-456) # Subtraction\n",
        "print(123*456) # Multiplication\n",
        "print(15/6)    # Division\n",
        "print(15//6)   # Integer Division\n",
        "print(15**6)   # Exponentiation"
      ],
      "metadata": {
        "colab": {
          "base_uri": "https://localhost:8080/"
        },
        "id": "2Y798tr0a-70",
        "outputId": "6992da4a-3eeb-43b6-e644-50470fab92a1"
      },
      "execution_count": null,
      "outputs": [
        {
          "output_type": "stream",
          "name": "stdout",
          "text": [
            "579\n",
            "-333\n",
            "56088\n",
            "2.5\n",
            "2\n",
            "11390625\n"
          ]
        }
      ]
    },
    {
      "cell_type": "markdown",
      "source": [
        "2. An example for if (conditional statement)"
      ],
      "metadata": {
        "id": "FxMY2Vu0dHxs"
      }
    },
    {
      "cell_type": "code",
      "source": [
        "a=100\n",
        "b=20\n",
        "c=34\n",
        "if a>b and a>c: \n",
        "    print(\"Largest is\", a)\n",
        "elif b>c:\n",
        "    print(\"Largest is\", b)\n",
        "else:\n",
        "    print(\"Largest is\", c)"
      ],
      "metadata": {
        "colab": {
          "base_uri": "https://localhost:8080/"
        },
        "id": "GiMWz3_igekU",
        "outputId": "0b1c6537-1caf-4d6a-acd5-bc648797f3a5"
      },
      "execution_count": null,
      "outputs": [
        {
          "output_type": "stream",
          "name": "stdout",
          "text": [
            "Largest is 100\n"
          ]
        }
      ]
    },
    {
      "cell_type": "markdown",
      "source": [
        "3. An example for a function"
      ],
      "metadata": {
        "id": "fz402_4zbbzt"
      }
    },
    {
      "cell_type": "code",
      "source": [
        "def print_even(test_list) :\n",
        "    for i in test_list:\n",
        "        if i % 2 == 0:\n",
        "            yield i\n",
        " \n",
        "# initializing list\n",
        "test_list = [1, 4, 5, 6, 7, 8, 11]\n",
        " \n",
        "# printing initial list\n",
        "print (\"The original list is : \" +  str(test_list))\n",
        " \n",
        "# printing even numbers\n",
        "print (\"The even numbers in list are : \", end = \" \")  # Prints the output on the same line.\n",
        "for j in print_even(test_list):\n",
        "    print (j, end = \" \")\n",
        "\n",
        "    \n",
        "# Why the code ' end=\" \" ' inside the print() statement?\n"
      ],
      "metadata": {
        "colab": {
          "base_uri": "https://localhost:8080/"
        },
        "id": "u7k0fKbshSCX",
        "outputId": "5b8d6243-cc2a-4ff3-8bc2-297befd38bf6"
      },
      "execution_count": 56,
      "outputs": [
        {
          "output_type": "stream",
          "name": "stdout",
          "text": [
            "The original list is : [1, 4, 5, 6, 7, 8, 11]\n",
            "The even numbers in list are :  4 6 8 "
          ]
        }
      ]
    },
    {
      "cell_type": "markdown",
      "source": [
        "4. An example for while loop in Python"
      ],
      "metadata": {
        "id": "HIHZQSO_kNc_"
      }
    },
    {
      "cell_type": "code",
      "source": [
        "a=1\n",
        "while a <= 10:\n",
        "    print(a, end=' ')\n",
        "    a=a+1"
      ],
      "metadata": {
        "colab": {
          "base_uri": "https://localhost:8080/"
        },
        "id": "R_2VDPyFkRD_",
        "outputId": "9e6eb741-bf2a-47e5-ba24-619e4079be85"
      },
      "execution_count": null,
      "outputs": [
        {
          "output_type": "stream",
          "name": "stdout",
          "text": [
            "1 2 3 4 5 6 7 8 9 10 "
          ]
        }
      ]
    },
    {
      "cell_type": "markdown",
      "source": [
        "5. An example for break"
      ],
      "metadata": {
        "id": "Kr2UaYQdkkMD"
      }
    },
    {
      "cell_type": "code",
      "source": [
        "for i in range(10):\n",
        "\tif i==5:\n",
        "\t\tbreak\n",
        "\tprint(i)\n",
        " \n",
        " # Why numbers 5, 6, 7, 8 and 9 are not printed?"
      ],
      "metadata": {
        "colab": {
          "base_uri": "https://localhost:8080/"
        },
        "id": "5DS_-D4BknsS",
        "outputId": "9ad55dc4-d095-431f-f087-703b1bdc10cb"
      },
      "execution_count": 57,
      "outputs": [
        {
          "output_type": "stream",
          "name": "stdout",
          "text": [
            "0\n",
            "1\n",
            "2\n",
            "3\n",
            "4\n"
          ]
        }
      ]
    },
    {
      "cell_type": "markdown",
      "source": [
        "6. An example for continue in Python"
      ],
      "metadata": {
        "id": "C_cNqN-hllyS"
      }
    },
    {
      "cell_type": "code",
      "source": [
        "for i in range(10):\n",
        "\tif i==5:\n",
        "\t\tcontinue\n",
        "\tprint(i)\n",
        " \n",
        "\n",
        "# What is the difference between break and continue?\n"
      ],
      "metadata": {
        "colab": {
          "base_uri": "https://localhost:8080/"
        },
        "id": "AWgXS9QkllXD",
        "outputId": "1dbc711f-d43b-4dfe-bde9-9a9bd1552a8d"
      },
      "execution_count": 58,
      "outputs": [
        {
          "output_type": "stream",
          "name": "stdout",
          "text": [
            "0\n",
            "1\n",
            "2\n",
            "3\n",
            "4\n",
            "6\n",
            "7\n",
            "8\n",
            "9\n"
          ]
        }
      ]
    },
    {
      "cell_type": "markdown",
      "source": [
        "7. An example for 'for' loop"
      ],
      "metadata": {
        "id": "VVpood5VmMK9"
      }
    },
    {
      "cell_type": "code",
      "source": [
        "print(\"A for loop in Python\")\n",
        "for x in range(10):\n",
        "    print(x, end=\" \")\n",
        "\n",
        "print(\"\\nAnother for loop in Python\")\n",
        "# What is \"\\n\" at the beginning of print()?\n",
        "\n",
        "for x in range(2,10,2):\n",
        "    print(x, end=\" \")"
      ],
      "metadata": {
        "colab": {
          "base_uri": "https://localhost:8080/"
        },
        "id": "RZfGG7P4mMsQ",
        "outputId": "0b654a6e-ff8d-446e-bedb-f8932a762b62"
      },
      "execution_count": 60,
      "outputs": [
        {
          "output_type": "stream",
          "name": "stdout",
          "text": [
            "A for loop in Python\n",
            "0 1 2 3 4 5 6 7 8 9 \n",
            "Another for loop in Python\n",
            "2 4 6 8 "
          ]
        }
      ]
    },
    {
      "cell_type": "markdown",
      "source": [
        "8. List and for loop "
      ],
      "metadata": {
        "id": "XBFWO6o6nnQu"
      }
    },
    {
      "cell_type": "code",
      "source": [
        "lst=[111,222,333]\n",
        "for x in lst:\n",
        "    print(x)\n",
        "lst=['AAA','BBB','CCC']\n",
        "for x in lst:\n",
        "    print(x)"
      ],
      "metadata": {
        "colab": {
          "base_uri": "https://localhost:8080/"
        },
        "id": "h1tlbe3fnnBW",
        "outputId": "f2beff95-d5da-434b-fdd1-a315673b01d6"
      },
      "execution_count": null,
      "outputs": [
        {
          "output_type": "stream",
          "name": "stdout",
          "text": [
            "111\n",
            "222\n",
            "333\n",
            "AAA\n",
            "BBB\n",
            "CCC\n"
          ]
        }
      ]
    },
    {
      "cell_type": "markdown",
      "source": [
        "9. Tuple and for loop"
      ],
      "metadata": {
        "id": "evEOKM17oAWn"
      }
    },
    {
      "cell_type": "code",
      "source": [
        "tpl=(444,555,666)\n",
        "for x in tpl:\n",
        "    print(x)\n",
        "tpl=('DDD','EEE','FFF')\n",
        "for x in tpl:\n",
        "    print(x)"
      ],
      "metadata": {
        "colab": {
          "base_uri": "https://localhost:8080/"
        },
        "id": "4oy0b-5PoAGw",
        "outputId": "eb225117-d88a-4e83-f9f8-9458ed1d97e2"
      },
      "execution_count": null,
      "outputs": [
        {
          "output_type": "stream",
          "name": "stdout",
          "text": [
            "444\n",
            "555\n",
            "666\n",
            "DDD\n",
            "EEE\n",
            "FFF\n"
          ]
        }
      ]
    },
    {
      "cell_type": "markdown",
      "source": [
        "10. Set and for loop"
      ],
      "metadata": {
        "id": "YbEIJeXSoGOY"
      }
    },
    {
      "cell_type": "code",
      "source": [
        "st={777,888,999,777}\n",
        "for x in st:\n",
        "    print(x)\n",
        "st={'GGG','HHH','III','GGG'}\n",
        "for x in st:\n",
        "    print(x)"
      ],
      "metadata": {
        "colab": {
          "base_uri": "https://localhost:8080/"
        },
        "id": "DocVm2J_oJUV",
        "outputId": "479b9785-46cd-40f2-db3e-6ed247a010e9"
      },
      "execution_count": null,
      "outputs": [
        {
          "output_type": "stream",
          "name": "stdout",
          "text": [
            "888\n",
            "777\n",
            "999\n",
            "HHH\n",
            "GGG\n",
            "III\n"
          ]
        }
      ]
    },
    {
      "cell_type": "markdown",
      "source": [
        "11. Dictionary and for loop"
      ],
      "metadata": {
        "id": "Dt0fch7goXcb"
      }
    },
    {
      "cell_type": "code",
      "source": [
        "dct={'aa':777,'bb':888,'cc':999}\n",
        "for x in dct:\n",
        "    print(x,'--->',dct[x])\n"
      ],
      "metadata": {
        "colab": {
          "base_uri": "https://localhost:8080/"
        },
        "id": "6gNySkW2oahd",
        "outputId": "23d1c436-f7d2-420f-e4d0-fcacddcdd344"
      },
      "execution_count": null,
      "outputs": [
        {
          "output_type": "stream",
          "name": "stdout",
          "text": [
            "aa ---> 777\n",
            "bb ---> 888\n",
            "cc ---> 999\n"
          ]
        }
      ]
    },
    {
      "cell_type": "markdown",
      "source": [
        "12. Indexing of lists"
      ],
      "metadata": {
        "id": "JMAFtL9jqSTF"
      }
    },
    {
      "cell_type": "code",
      "source": [
        "lst = [11, 22, 33, 44, 55, 66, 77, 88, 99] # A list\n",
        "\n",
        "print(lst[0])\n",
        "print(lst[8])\n",
        "print(lst[1])\n",
        "print(lst[-1])\n",
        "print(lst[-9])\n",
        "\n",
        "# What will happen if you execute the following code?\n",
        "\n",
        "# print(lst[9])"
      ],
      "metadata": {
        "colab": {
          "base_uri": "https://localhost:8080/"
        },
        "id": "53SU5bRRqWI6",
        "outputId": "4b875184-7ecb-4c1c-fea9-daf8f066e6d4"
      },
      "execution_count": 61,
      "outputs": [
        {
          "output_type": "stream",
          "name": "stdout",
          "text": [
            "11\n",
            "99\n",
            "22\n",
            "99\n",
            "11\n"
          ]
        }
      ]
    },
    {
      "cell_type": "markdown",
      "source": [
        "13. Slicing lists and tuples"
      ],
      "metadata": {
        "id": "WVe6pf2Yp-sd"
      }
    },
    {
      "cell_type": "code",
      "source": [
        "lst = [11, 22, 33, 44, 55, 66, 77, 88, 99] # A list\n",
        "\n",
        "print(lst[::])\n",
        "print(lst[::2])\n",
        "print(lst[::3])\n",
        "print(lst[1::])\n",
        "print(lst[3::])\n",
        "print(lst[:9:])\n",
        "print(lst[:5:])\n",
        "print(lst[2:])\n",
        "print(lst[::-1])\n",
        "\n",
        "tpl = (111, 222, 333, 444, 555, 666, 777, 888, 999) # A tuple\n",
        "\n",
        "print(tpl[::])\n",
        "print(tpl[::2])\n",
        "print(tpl[::3])\n",
        "print(tpl[1::])\n",
        "print(tpl[3::])\n",
        "print(tpl[:9:])\n",
        "print(tpl[:5:])\n",
        "print(tpl[2:])\n",
        "print(tpl[::-1])"
      ],
      "metadata": {
        "colab": {
          "base_uri": "https://localhost:8080/"
        },
        "id": "Xg_0U1QeqBQt",
        "outputId": "8b942848-d783-486b-a1fc-5f3a76fe3f43"
      },
      "execution_count": null,
      "outputs": [
        {
          "output_type": "stream",
          "name": "stdout",
          "text": [
            "[11, 22, 33, 44, 55, 66, 77, 88, 99]\n",
            "[11, 33, 55, 77, 99]\n",
            "[11, 44, 77]\n",
            "[22, 33, 44, 55, 66, 77, 88, 99]\n",
            "[44, 55, 66, 77, 88, 99]\n",
            "[11, 22, 33, 44, 55, 66, 77, 88, 99]\n",
            "[11, 22, 33, 44, 55]\n",
            "[33, 44, 55, 66, 77, 88, 99]\n",
            "[99, 88, 77, 66, 55, 44, 33, 22, 11]\n",
            "(111, 222, 333, 444, 555, 666, 777, 888, 999)\n",
            "(111, 333, 555, 777, 999)\n",
            "(111, 444, 777)\n",
            "(222, 333, 444, 555, 666, 777, 888, 999)\n",
            "(444, 555, 666, 777, 888, 999)\n",
            "(111, 222, 333, 444, 555, 666, 777, 888, 999)\n",
            "(111, 222, 333, 444, 555)\n",
            "(333, 444, 555, 666, 777, 888, 999)\n",
            "(999, 888, 777, 666, 555, 444, 333, 222, 111)\n"
          ]
        }
      ]
    },
    {
      "cell_type": "markdown",
      "source": [
        "14. Reading a file\n",
        "\n",
        "You might be getting an error. Why?"
      ],
      "metadata": {
        "id": "6LpmKsZi31HY"
      }
    },
    {
      "cell_type": "code",
      "source": [
        "f=open(\"input.txt\",\"r\")\n",
        "print(f.read())\n",
        "for i in f:\n",
        "    print(i)"
      ],
      "metadata": {
        "colab": {
          "base_uri": "https://localhost:8080/"
        },
        "id": "5niE_anF33gw",
        "outputId": "501359c4-5414-47d6-faf0-6e3484fafa03"
      },
      "execution_count": 62,
      "outputs": [
        {
          "output_type": "stream",
          "name": "stdout",
          "text": [
            "AAA 111\n",
            "BBB 222\n",
            "CCC 333\n",
            "DDD 444\n",
            "\n"
          ]
        }
      ]
    },
    {
      "cell_type": "markdown",
      "source": [
        "15. Writing a file "
      ],
      "metadata": {
        "id": "4BGGNa6l2pkf"
      }
    },
    {
      "cell_type": "code",
      "source": [
        "f=open(\"output.txt\",\"w\")\n",
        "for i in range(5):\n",
        "    f.write(str(i)*10+'\\n')"
      ],
      "metadata": {
        "id": "74aMnoyVtOEc"
      },
      "execution_count": null,
      "outputs": []
    },
    {
      "cell_type": "markdown",
      "source": [
        "Where can you find the new file \"output.txt\" created by this Python script?"
      ],
      "metadata": {
        "id": "83uVHrgl72Uj"
      }
    }
  ]
}