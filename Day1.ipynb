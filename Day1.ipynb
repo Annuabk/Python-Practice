{
  "nbformat": 4,
  "nbformat_minor": 0,
  "metadata": {
    "colab": {
      "provenance": [],
      "authorship_tag": "ABX9TyMBDFdDaT4sve6/mg+nHCQG",
      "include_colab_link": true
    },
    "kernelspec": {
      "name": "python3",
      "display_name": "Python 3"
    },
    "language_info": {
      "name": "python"
    }
  },
  "cells": [
    {
      "cell_type": "markdown",
      "metadata": {
        "id": "view-in-github",
        "colab_type": "text"
      },
      "source": [
        "<a href=\"https://colab.research.google.com/github/DeepuBenson/Python/blob/main/Day1.ipynb\" target=\"_parent\"><img src=\"https://colab.research.google.com/assets/colab-badge.svg\" alt=\"Open In Colab\"/></a>"
      ]
    },
    {
      "cell_type": "markdown",
      "source": [],
      "metadata": {
        "id": "cggPnfEtqdt7"
      }
    },
    {
      "cell_type": "markdown",
      "source": [
        "# **Python: A multi-paradigm programming language**"
      ],
      "metadata": {
        "id": "vmkihd8cqigs"
      }
    },
    {
      "cell_type": "markdown",
      "source": [
        "A few examples for functions in Python"
      ],
      "metadata": {
        "id": "K_tUCmMaqsbr"
      }
    },
    {
      "cell_type": "code",
      "source": [
        "def intsum(n):\n",
        "    return sum(range(n+1))\n",
        "\n",
        "print(intsum(100))"
      ],
      "metadata": {
        "colab": {
          "base_uri": "https://localhost:8080/"
        },
        "id": "EP8FTYffq3R2",
        "outputId": "49c9b636-8520-46f5-8ea3-57cb472d3c18"
      },
      "execution_count": 2,
      "outputs": [
        {
          "output_type": "stream",
          "name": "stdout",
          "text": [
            "5050\n"
          ]
        }
      ]
    },
    {
      "cell_type": "code",
      "source": [
        "def foo(n):\n",
        "    print(n+n)"
      ],
      "metadata": {
        "id": "b9TDrXqsq70O"
      },
      "execution_count": 3,
      "outputs": []
    },
    {
      "cell_type": "code",
      "source": [
        "foo('1234')\n",
        "foo(1234)\n",
        "foo([1,2,3,4])\n",
        "foo((1,2,3,4))"
      ],
      "metadata": {
        "colab": {
          "base_uri": "https://localhost:8080/"
        },
        "id": "ez0bX7GPrAj2",
        "outputId": "32fb5829-a412-4c2e-c77b-9c9fde71770c"
      },
      "execution_count": 4,
      "outputs": [
        {
          "output_type": "stream",
          "name": "stdout",
          "text": [
            "12341234\n",
            "2468\n",
            "[1, 2, 3, 4, 1, 2, 3, 4]\n",
            "(1, 2, 3, 4, 1, 2, 3, 4)\n"
          ]
        }
      ]
    },
    {
      "cell_type": "code",
      "source": [
        "n=int(input('Enter a positive number: '))\n",
        "if n > 1:\n",
        "    for i in range(2,n-1):\n",
        "        if n % i == 0:\n",
        "            print(n, \"is composite\")\n",
        "            break\n",
        "    else:     #Python for loops can also have else!                      \n",
        "        print(n, \"is prime\")\n",
        "else:         \n",
        "    print(n, \"is neither prime nor composite\")"
      ],
      "metadata": {
        "colab": {
          "base_uri": "https://localhost:8080/"
        },
        "id": "SeQSqCMgrKGM",
        "outputId": "48600274-6f81-4c7d-f951-1fa4d92bedc9"
      },
      "execution_count": 5,
      "outputs": [
        {
          "output_type": "stream",
          "name": "stdout",
          "text": [
            "Enter a positive number: 123\n",
            "123 is composite\n"
          ]
        }
      ]
    },
    {
      "cell_type": "code",
      "source": [
        "def intsum(n):\n",
        "    if n==1:\n",
        "        return 1\n",
        "    else:\n",
        "        return n+intsum(n-1)\n",
        "\n",
        "x=int(input('Enter a number : '))\n",
        "print(intsum(x))"
      ],
      "metadata": {
        "colab": {
          "base_uri": "https://localhost:8080/"
        },
        "id": "ABKh9OOGrRsw",
        "outputId": "5d2fccc4-f44c-4972-ffcb-025f1d2d9af2"
      },
      "execution_count": 6,
      "outputs": [
        {
          "output_type": "stream",
          "name": "stdout",
          "text": [
            "Enter a number : 122\n",
            "7503\n"
          ]
        }
      ]
    },
    {
      "cell_type": "code",
      "source": [
        "def fact(n):\n",
        "    if n==1:\n",
        "        return 1\n",
        "    else:\n",
        "        return n*fact(n-1)\n",
        "\n",
        "x=int(input('Enter a number : '))\n",
        "print(fact(x))"
      ],
      "metadata": {
        "colab": {
          "base_uri": "https://localhost:8080/"
        },
        "id": "dCA1dhpQr5oP",
        "outputId": "4c24d1f8-16c3-4960-fd90-fad3025ee74e"
      },
      "execution_count": 7,
      "outputs": [
        {
          "output_type": "stream",
          "name": "stdout",
          "text": [
            "Enter a number : 6\n",
            "720\n"
          ]
        }
      ]
    },
    {
      "cell_type": "markdown",
      "source": [
        "A few examples for classes in Python"
      ],
      "metadata": {
        "id": "Mf1YA6dlsEQY"
      }
    },
    {
      "cell_type": "code",
      "source": [
        "class ClassName:\n",
        "    #Body of the class\n",
        "    #should not be empty\n",
        "    pass "
      ],
      "metadata": {
        "id": "PfHJQwdFsHEJ"
      },
      "execution_count": 8,
      "outputs": []
    },
    {
      "cell_type": "code",
      "source": [
        "class OurClass:\n",
        "    x=123\n",
        "\n",
        "oc1=OurClass() #First Object created\n",
        "oc2=OurClass() #Second Object created\n",
        "\n",
        "print(oc1.x)\n",
        "print(oc2.x)\n",
        "\n",
        "oc1.x=456\n",
        "\n",
        "print(oc1.x)   # ???\n",
        "print(oc2.x)   # ???\n",
        "\n",
        "print(id(oc1)) # ???\n",
        "print(id(oc2)) # ???"
      ],
      "metadata": {
        "colab": {
          "base_uri": "https://localhost:8080/"
        },
        "id": "VgUGAZxHsPAS",
        "outputId": "3e1096eb-f69e-4187-906e-5689204b0abf"
      },
      "execution_count": 11,
      "outputs": [
        {
          "output_type": "stream",
          "name": "stdout",
          "text": [
            "123\n",
            "123\n",
            "456\n",
            "123\n",
            "140611706230624\n",
            "140611706230432\n"
          ]
        }
      ]
    },
    {
      "cell_type": "code",
      "source": [
        "class Check:\n",
        "    a=100\n",
        "    def __init__(self,n): #Similar to a constructor in C++/Java\n",
        "        self.n = n\n",
        "    def checking(self):   # This is called a method\n",
        "        print(\"---->\",Check.a)\n",
        "        if self.n % 2 == 0:\n",
        "            print(self.n,'is an even number')\n",
        "        else:\n",
        "            print(self.n,'is an odd number')\n",
        "\n",
        "    def ch(self):\n",
        "        Check.a=333\n",
        "\n",
        "x=Check(123)\n",
        "y=Check(456)\n",
        "x.ch()\n",
        "x.checking()\n",
        "y.checking()"
      ],
      "metadata": {
        "colab": {
          "base_uri": "https://localhost:8080/"
        },
        "id": "GnqdqC1esY3h",
        "outputId": "035af752-f493-4271-dfbe-0d22f8f03117"
      },
      "execution_count": 12,
      "outputs": [
        {
          "output_type": "stream",
          "name": "stdout",
          "text": [
            "----> 333\n",
            "123 is an odd number\n",
            "----> 333\n",
            "456 is an even number\n"
          ]
        }
      ]
    },
    {
      "cell_type": "markdown",
      "source": [
        "Functional Programming with Python"
      ],
      "metadata": {
        "id": "ZoT2AXN1sgho"
      }
    },
    {
      "cell_type": "code",
      "source": [
        "lam = lambda n: n+n"
      ],
      "metadata": {
        "id": "1YKeZqhFshn7"
      },
      "execution_count": 13,
      "outputs": []
    },
    {
      "cell_type": "code",
      "source": [
        "lam(123)"
      ],
      "metadata": {
        "colab": {
          "base_uri": "https://localhost:8080/"
        },
        "id": "U3A4nIbsslzX",
        "outputId": "93db8680-d5a4-4079-83fe-0f2ecff2edb8"
      },
      "execution_count": 14,
      "outputs": [
        {
          "output_type": "execute_result",
          "data": {
            "text/plain": [
              "246"
            ]
          },
          "metadata": {},
          "execution_count": 14
        }
      ]
    },
    {
      "cell_type": "code",
      "source": [
        "lam('123')"
      ],
      "metadata": {
        "colab": {
          "base_uri": "https://localhost:8080/",
          "height": 35
        },
        "id": "AfwLp2TDsrRr",
        "outputId": "f9d6da50-d70b-4dc8-bb6b-f15a6d6e436d"
      },
      "execution_count": 15,
      "outputs": [
        {
          "output_type": "execute_result",
          "data": {
            "text/plain": [
              "'123123'"
            ],
            "application/vnd.google.colaboratory.intrinsic+json": {
              "type": "string"
            }
          },
          "metadata": {},
          "execution_count": 15
        }
      ]
    },
    {
      "cell_type": "code",
      "source": [
        "def foo(n):\n",
        "    return lambda x: x**n"
      ],
      "metadata": {
        "id": "WlVAgxr-svUO"
      },
      "execution_count": 16,
      "outputs": []
    },
    {
      "cell_type": "code",
      "source": [
        "square = foo(2)"
      ],
      "metadata": {
        "id": "VcL8FpqlszTa"
      },
      "execution_count": 17,
      "outputs": []
    },
    {
      "cell_type": "code",
      "source": [
        "print(square)"
      ],
      "metadata": {
        "colab": {
          "base_uri": "https://localhost:8080/"
        },
        "id": "Nbwk3a9Xs3hO",
        "outputId": "662a22dd-63cd-42bd-b94e-4dfee147f363"
      },
      "execution_count": 18,
      "outputs": [
        {
          "output_type": "stream",
          "name": "stdout",
          "text": [
            "<function foo.<locals>.<lambda> at 0x7fe2b9f23b80>\n"
          ]
        }
      ]
    },
    {
      "cell_type": "code",
      "source": [
        "square(5)"
      ],
      "metadata": {
        "colab": {
          "base_uri": "https://localhost:8080/"
        },
        "id": "_kPwv78ds7Vl",
        "outputId": "08acb521-493f-4f9a-9feb-aa4de2b8d7db"
      },
      "execution_count": 19,
      "outputs": [
        {
          "output_type": "execute_result",
          "data": {
            "text/plain": [
              "25"
            ]
          },
          "metadata": {},
          "execution_count": 19
        }
      ]
    },
    {
      "cell_type": "code",
      "source": [
        "cube = foo(3)"
      ],
      "metadata": {
        "id": "UdC-rFURs-8E"
      },
      "execution_count": 20,
      "outputs": []
    },
    {
      "cell_type": "code",
      "source": [
        "cube(5)"
      ],
      "metadata": {
        "colab": {
          "base_uri": "https://localhost:8080/"
        },
        "id": "2gaIX1WftCUQ",
        "outputId": "4a649dcf-8080-4973-d954-ee69b013ac67"
      },
      "execution_count": 21,
      "outputs": [
        {
          "output_type": "execute_result",
          "data": {
            "text/plain": [
              "125"
            ]
          },
          "metadata": {},
          "execution_count": 21
        }
      ]
    },
    {
      "cell_type": "code",
      "source": [
        "x='123'\n",
        "print(int(x))"
      ],
      "metadata": {
        "colab": {
          "base_uri": "https://localhost:8080/"
        },
        "id": "J3Y_aQJ--9ZT",
        "outputId": "8f2ee95a-d3a1-4258-eb06-fa9a0351e557"
      },
      "execution_count": 25,
      "outputs": [
        {
          "output_type": "stream",
          "name": "stdout",
          "text": [
            "123\n"
          ]
        }
      ]
    },
    {
      "cell_type": "code",
      "source": [
        "y=['11', '22', '33', '44', '55']"
      ],
      "metadata": {
        "id": "F3GHfhxH_KZE"
      },
      "execution_count": 40,
      "outputs": []
    },
    {
      "cell_type": "code",
      "source": [
        "print(int(y))   #Intentional Mistake!"
      ],
      "metadata": {
        "colab": {
          "base_uri": "https://localhost:8080/",
          "height": 170
        },
        "id": "B8IskDPABpXF",
        "outputId": "187f09d0-fb62-4e3d-9705-3c85b5131297"
      },
      "execution_count": 41,
      "outputs": [
        {
          "output_type": "error",
          "ename": "TypeError",
          "evalue": "ignored",
          "traceback": [
            "\u001b[0;31m---------------------------------------------------------------------------\u001b[0m",
            "\u001b[0;31mTypeError\u001b[0m                                 Traceback (most recent call last)",
            "\u001b[0;32m<ipython-input-41-fd26d6a7295e>\u001b[0m in \u001b[0;36m<module>\u001b[0;34m\u001b[0m\n\u001b[0;32m----> 1\u001b[0;31m \u001b[0mprint\u001b[0m\u001b[0;34m(\u001b[0m\u001b[0mint\u001b[0m\u001b[0;34m(\u001b[0m\u001b[0my\u001b[0m\u001b[0;34m)\u001b[0m\u001b[0;34m)\u001b[0m   \u001b[0;31m#Intentional Mistake\u001b[0m\u001b[0;34m\u001b[0m\u001b[0;34m\u001b[0m\u001b[0m\n\u001b[0m",
            "\u001b[0;31mTypeError\u001b[0m: int() argument must be a string, a bytes-like object or a number, not 'list'"
          ]
        }
      ]
    },
    {
      "cell_type": "code",
      "source": [
        "print(list(map(int,y)))"
      ],
      "metadata": {
        "colab": {
          "base_uri": "https://localhost:8080/"
        },
        "id": "qaeuWFGy_aql",
        "outputId": "680c8990-4a08-4536-b126-f10404e57284"
      },
      "execution_count": 42,
      "outputs": [
        {
          "output_type": "stream",
          "name": "stdout",
          "text": [
            "[11, 22, 33, 44, 55]\n"
          ]
        }
      ]
    },
    {
      "cell_type": "code",
      "source": [
        "import math as m\n",
        "y = [(x*m.pi)/180 for x in range(0, 361,30)] # Example for List Comprehension. A very useful feature.\n",
        "print(y)"
      ],
      "metadata": {
        "colab": {
          "base_uri": "https://localhost:8080/"
        },
        "id": "TODtZPdt_ynk",
        "outputId": "2b39ac7a-caf9-4245-c55d-ce1130fa01bc"
      },
      "execution_count": 45,
      "outputs": [
        {
          "output_type": "stream",
          "name": "stdout",
          "text": [
            "[0.0, 0.5235987755982988, 1.0471975511965976, 1.5707963267948966, 2.0943951023931953, 2.6179938779914944, 3.141592653589793, 3.6651914291880923, 4.1887902047863905, 4.71238898038469, 5.235987755982989, 5.759586531581287, 6.283185307179586]\n"
          ]
        }
      ]
    },
    {
      "cell_type": "code",
      "source": [
        "print(list(map(m.sin, y)))"
      ],
      "metadata": {
        "colab": {
          "base_uri": "https://localhost:8080/"
        },
        "id": "ztiVL0tJBJh1",
        "outputId": "85eddd01-b04c-48f3-f081-b11efad6a5f9"
      },
      "execution_count": 50,
      "outputs": [
        {
          "output_type": "stream",
          "name": "stdout",
          "text": [
            "[0.0, 0.49999999999999994, 0.8660254037844386, 1.0, 0.8660254037844387, 0.49999999999999994, 1.2246467991473532e-16, -0.5000000000000001, -0.8660254037844384, -1.0, -0.8660254037844386, -0.5000000000000004, -2.4492935982947064e-16]\n"
          ]
        }
      ]
    },
    {
      "cell_type": "markdown",
      "source": [
        "**Why Sin(30) is shown as 0.49999999999999994 instead of 0.5?**\n",
        "\n",
        "A long, detailed and difficult explanation can be found here ---> [What Every Computer Scientist Should Know About Floating-Point Arithmetic](https://docs.oracle.com/cd/E19957-01/806-3568/ncg_goldberg.html)\n",
        "\n",
        "**Optional reading material**"
      ],
      "metadata": {
        "id": "YAuLkCeUCDpm"
      }
    },
    {
      "cell_type": "code",
      "source": [
        "print(m.sqrt(3)/2)"
      ],
      "metadata": {
        "colab": {
          "base_uri": "https://localhost:8080/"
        },
        "id": "sIPKa71DBdHO",
        "outputId": "fc5a4040-9672-4975-c744-c56b9495618c"
      },
      "execution_count": 46,
      "outputs": [
        {
          "output_type": "stream",
          "name": "stdout",
          "text": [
            "0.8660254037844386\n"
          ]
        }
      ]
    },
    {
      "cell_type": "code",
      "source": [
        "def foo(n):\n",
        "    return n+n"
      ],
      "metadata": {
        "id": "YIyHFVMPyTBJ"
      },
      "execution_count": 48,
      "outputs": []
    },
    {
      "cell_type": "code",
      "source": [
        "x=[1, 2, 3, 4, 5]"
      ],
      "metadata": {
        "id": "E3EjwV3_-2AB"
      },
      "execution_count": 49,
      "outputs": []
    },
    {
      "cell_type": "code",
      "source": [
        "print(foo(x))"
      ],
      "metadata": {
        "colab": {
          "base_uri": "https://localhost:8080/"
        },
        "id": "rLsOLy2NElap",
        "outputId": "e140b61c-30af-40aa-fd7d-5a58dee55fe1"
      },
      "execution_count": 51,
      "outputs": [
        {
          "output_type": "stream",
          "name": "stdout",
          "text": [
            "[1, 2, 3, 4, 5, 1, 2, 3, 4, 5]\n"
          ]
        }
      ]
    },
    {
      "cell_type": "code",
      "source": [
        "print(list(map(foo, x)))"
      ],
      "metadata": {
        "colab": {
          "base_uri": "https://localhost:8080/"
        },
        "id": "eao4zLokE3hd",
        "outputId": "1b10373b-e49e-45d4-a84f-c00c40e6414d"
      },
      "execution_count": 53,
      "outputs": [
        {
          "output_type": "stream",
          "name": "stdout",
          "text": [
            "[2, 4, 6, 8, 10]\n"
          ]
        }
      ]
    },
    {
      "cell_type": "code",
      "source": [
        "print(list(map(lambda n: n+n, x)))"
      ],
      "metadata": {
        "colab": {
          "base_uri": "https://localhost:8080/"
        },
        "id": "tKo-uDA-FGMb",
        "outputId": "15bff928-07e2-4273-954c-690872b065fa"
      },
      "execution_count": 54,
      "outputs": [
        {
          "output_type": "stream",
          "name": "stdout",
          "text": [
            "[2, 4, 6, 8, 10]\n"
          ]
        }
      ]
    },
    {
      "cell_type": "code",
      "source": [
        "a = [1, 2, 3, 4]\n",
        "b = [4, 5, 6, 7]\n",
        "print(list(map(lambda x, y: x * y, a, b)))"
      ],
      "metadata": {
        "colab": {
          "base_uri": "https://localhost:8080/"
        },
        "id": "h9Rv8wGTFTW7",
        "outputId": "55253ee6-cb01-4ac5-ba67-98b80d488105"
      },
      "execution_count": 60,
      "outputs": [
        {
          "output_type": "stream",
          "name": "stdout",
          "text": [
            "[4, 10, 18, 28]\n"
          ]
        }
      ]
    },
    {
      "cell_type": "code",
      "source": [
        "print(set(map(lambda x, y: x * y, a, b)))"
      ],
      "metadata": {
        "colab": {
          "base_uri": "https://localhost:8080/"
        },
        "id": "TKCPKO0zGIi4",
        "outputId": "1f187ec9-9fee-464b-8449-9ea6d53ce956"
      },
      "execution_count": 61,
      "outputs": [
        {
          "output_type": "stream",
          "name": "stdout",
          "text": [
            "{10, 18, 4, 28}\n"
          ]
        }
      ]
    },
    {
      "cell_type": "code",
      "source": [
        "from random import randint\n",
        "rlist = [randint(1,100) for x in range(10)]\n",
        "print(rlist)"
      ],
      "metadata": {
        "colab": {
          "base_uri": "https://localhost:8080/"
        },
        "id": "hqISP1HHIkjP",
        "outputId": "c7e740d9-03b8-43b1-bc37-fa0195fe77b7"
      },
      "execution_count": 71,
      "outputs": [
        {
          "output_type": "stream",
          "name": "stdout",
          "text": [
            "[69, 70, 74, 88, 38, 100, 16, 34, 24, 84]\n"
          ]
        }
      ]
    },
    {
      "cell_type": "code",
      "source": [
        "print(list(filter(lambda x: x%2 == 1, rlist)))"
      ],
      "metadata": {
        "colab": {
          "base_uri": "https://localhost:8080/"
        },
        "id": "yuZ3NsbXJFJ4",
        "outputId": "77f75c10-4257-4292-ef93-54516ce0e2f5"
      },
      "execution_count": 72,
      "outputs": [
        {
          "output_type": "stream",
          "name": "stdout",
          "text": [
            "[69]\n"
          ]
        }
      ]
    },
    {
      "cell_type": "code",
      "source": [
        "x=['cat', 'boat', 'mat', 'sat', 'bat', 'ball', 'rat']\n",
        "print(list(filter(lambda a: a.startswith('b'), x)))"
      ],
      "metadata": {
        "colab": {
          "base_uri": "https://localhost:8080/"
        },
        "id": "kvSEVVKmLE-l",
        "outputId": "8e3d9ad4-37f7-418b-ae17-82eb00388a66"
      },
      "execution_count": 76,
      "outputs": [
        {
          "output_type": "stream",
          "name": "stdout",
          "text": [
            "['boat', 'bat', 'ball']\n"
          ]
        }
      ]
    },
    {
      "cell_type": "code",
      "source": [
        "y = [11, {}, (), 22, '', 33, None, 0, 0.0, 44, \"\", 55]\n",
        "print(y)"
      ],
      "metadata": {
        "colab": {
          "base_uri": "https://localhost:8080/"
        },
        "id": "Hfc8stYjLu5s",
        "outputId": "8ac85b42-5b0c-4ea6-e0b3-b86f7debac44"
      },
      "execution_count": 77,
      "outputs": [
        {
          "output_type": "stream",
          "name": "stdout",
          "text": [
            "[11, {}, (), 22, '', 33, None, 0, 0.0, 44, '', 55]\n"
          ]
        }
      ]
    },
    {
      "cell_type": "code",
      "source": [
        "print(list(filter(None, y)))"
      ],
      "metadata": {
        "colab": {
          "base_uri": "https://localhost:8080/"
        },
        "id": "aHIx8Ix9Mtzs",
        "outputId": "b8f765b3-a7b1-4558-f1f6-7736d63c4b6b"
      },
      "execution_count": 79,
      "outputs": [
        {
          "output_type": "stream",
          "name": "stdout",
          "text": [
            "[11, 22, 33, 44, 55]\n"
          ]
        }
      ]
    },
    {
      "cell_type": "code",
      "source": [
        "print(list(filter(lambda a: a, y)))"
      ],
      "metadata": {
        "colab": {
          "base_uri": "https://localhost:8080/"
        },
        "id": "twLTmq0lM2f9",
        "outputId": "d8c57022-f4e9-4da4-95f4-64a0051138da"
      },
      "execution_count": 80,
      "outputs": [
        {
          "output_type": "stream",
          "name": "stdout",
          "text": [
            "[11, 22, 33, 44, 55]\n"
          ]
        }
      ]
    },
    {
      "cell_type": "code",
      "source": [
        "from functools import reduce\n",
        "lst = [11, 44, 66, 88, 33, 22, 77]\n",
        "print(reduce(lambda a, b: a if a >=b else b, lst))"
      ],
      "metadata": {
        "colab": {
          "base_uri": "https://localhost:8080/"
        },
        "id": "PDTYb5WfNOVn",
        "outputId": "f562dd9d-f22e-4056-9892-21fe7afa417e"
      },
      "execution_count": 82,
      "outputs": [
        {
          "output_type": "stream",
          "name": "stdout",
          "text": [
            "88\n"
          ]
        }
      ]
    },
    {
      "cell_type": "code",
      "source": [
        "max(lst)"
      ],
      "metadata": {
        "colab": {
          "base_uri": "https://localhost:8080/"
        },
        "id": "1IWJvt5YN2e7",
        "outputId": "d327b826-6ff5-4af0-e721-0059a8672fa8"
      },
      "execution_count": 83,
      "outputs": [
        {
          "output_type": "execute_result",
          "data": {
            "text/plain": [
              "88"
            ]
          },
          "metadata": {},
          "execution_count": 83
        }
      ]
    },
    {
      "cell_type": "code",
      "source": [
        "lst = [1, 2, 3, 4, 5, 6]"
      ],
      "metadata": {
        "id": "ZcL7K6eVO61h"
      },
      "execution_count": 86,
      "outputs": []
    },
    {
      "cell_type": "code",
      "source": [
        "print(reduce(lambda a, b: a*b, lst))"
      ],
      "metadata": {
        "colab": {
          "base_uri": "https://localhost:8080/"
        },
        "id": "ulMGoKyTO-K7",
        "outputId": "8fd72de9-423e-4b79-858c-305814ecf08a"
      },
      "execution_count": 87,
      "outputs": [
        {
          "output_type": "stream",
          "name": "stdout",
          "text": [
            "720\n"
          ]
        }
      ]
    },
    {
      "cell_type": "code",
      "source": [
        "import operator as op\n",
        "\n",
        "print(reduce(op.mul, lst))"
      ],
      "metadata": {
        "colab": {
          "base_uri": "https://localhost:8080/"
        },
        "id": "4ZIRooylOVde",
        "outputId": "cc395910-5005-4d2f-a6b2-f6f37dd9eb82"
      },
      "execution_count": 88,
      "outputs": [
        {
          "output_type": "stream",
          "name": "stdout",
          "text": [
            "720\n"
          ]
        }
      ]
    },
    {
      "cell_type": "markdown",
      "source": [
        "**Practice Problem 1**: Find the sum of the squares of the even numbers in a list."
      ],
      "metadata": {
        "id": "UFz_dqPmPbdM"
      }
    },
    {
      "cell_type": "code",
      "source": [
        "# I will call this a C program written in Python. Why?\n",
        "\n",
        "x=[11,12,13,14,15,16,17,18,19,20]\n",
        "s=0\n",
        "for i in x:\n",
        "\tif i % 2 ==0:\n",
        "\t\ts=s+i**2 \n",
        "print(s)\n"
      ],
      "metadata": {
        "colab": {
          "base_uri": "https://localhost:8080/"
        },
        "id": "VFZJleA4PfyF",
        "outputId": "7f0ef0c7-63df-4f35-b4a7-0a2239c46b8e"
      },
      "execution_count": 90,
      "outputs": [
        {
          "output_type": "stream",
          "name": "stdout",
          "text": [
            "1320\n"
          ]
        }
      ]
    },
    {
      "cell_type": "code",
      "source": [
        "# Do you have a \"Pythonic\" solution. Try here!\n",
        "\n",
        "\n"
      ],
      "metadata": {
        "id": "JNx8WA3DPpi2"
      },
      "execution_count": 91,
      "outputs": []
    },
    {
      "cell_type": "markdown",
      "source": [
        "**Practice Problem 2**: Read a number from the keyboard and print the sum of its digits."
      ],
      "metadata": {
        "id": "e8XnjvynP9rJ"
      }
    },
    {
      "cell_type": "code",
      "source": [
        "# Another bad Python script.\n",
        "\n",
        "n=int(input('Enter a number: '))\n",
        "s=0\n",
        "while(n > 0):\n",
        "\ts=s+n%10\n",
        "\tn=n//10\n",
        "print(s)"
      ],
      "metadata": {
        "colab": {
          "base_uri": "https://localhost:8080/"
        },
        "id": "0FdrRilcQZoY",
        "outputId": "1c949e82-d3a3-4c6a-dca6-cf04b13fc422"
      },
      "execution_count": 95,
      "outputs": [
        {
          "output_type": "stream",
          "name": "stdout",
          "text": [
            "Enter a number: 123456\n",
            "21\n"
          ]
        }
      ]
    },
    {
      "cell_type": "code",
      "source": [
        "# Do you have a \"Pythonic\" solution. Try here!\n",
        "\n",
        "\n"
      ],
      "metadata": {
        "id": "8iGbJz0TRF4b"
      },
      "execution_count": 94,
      "outputs": []
    },
    {
      "cell_type": "markdown",
      "source": [
        "**Practice Problem 3:** From a sentence, find words of length greater than n. "
      ],
      "metadata": {
        "id": "TII3bGXoRY8q"
      }
    },
    {
      "cell_type": "code",
      "source": [
        "# One more bad Python script\n",
        "\n",
        "str=input(\"Enter a sentence: \")\n",
        "st=str.split()\n",
        "n=int(input(\"Enter the length: \"))\n",
        "nstr=[]\n",
        "for i in st:\n",
        "\tif len(i) > n:\n",
        "\t\tnstr=nstr+[i]\n",
        "print(\"Words with length greater than\", n, \"are\",nstr)"
      ],
      "metadata": {
        "colab": {
          "base_uri": "https://localhost:8080/"
        },
        "id": "KvCqEuRWRifx",
        "outputId": "7752f2bd-2128-44ed-a4fb-2ef35a0a3ac8"
      },
      "execution_count": 97,
      "outputs": [
        {
          "output_type": "stream",
          "name": "stdout",
          "text": [
            "Enter a sentence: quick fox had a rabbit\n",
            "Enter the length: 8\n",
            "Words with length greater than 8 are []\n"
          ]
        }
      ]
    },
    {
      "cell_type": "code",
      "source": [
        "# Do you have a \"Pythonic\" solution. Try here!\n",
        "\n",
        "\n"
      ],
      "metadata": {
        "id": "me2Z_FnmR4zw"
      },
      "execution_count": 98,
      "outputs": []
    }
  ]
}