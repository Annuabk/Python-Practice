{
 "cells": [
  {
   "cell_type": "code",
   "execution_count": 1,
   "id": "31c4c6fc-eda3-496b-b867-620a67e5d05b",
   "metadata": {},
   "outputs": [],
   "source": [
    "class ClassName:\n",
    "    #Body of the class\n",
    "    #should not be empty\n",
    "    pass "
   ]
  },
  {
   "cell_type": "code",
   "execution_count": null,
   "id": "b0df1800-066f-42ea-8ac5-36156f453320",
   "metadata": {},
   "outputs": [],
   "source": []
  }
 ],
 "metadata": {
  "kernelspec": {
   "display_name": "Python 3 (ipykernel)",
   "language": "python",
   "name": "python3"
  },
  "language_info": {
   "codemirror_mode": {
    "name": "ipython",
    "version": 3
   },
   "file_extension": ".py",
   "mimetype": "text/x-python",
   "name": "python",
   "nbconvert_exporter": "python",
   "pygments_lexer": "ipython3",
   "version": "3.9.12"
  }
 },
 "nbformat": 4,
 "nbformat_minor": 5
}
