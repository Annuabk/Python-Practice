{
 "cells": [
  {
   "cell_type": "code",
   "execution_count": 1,
   "id": "30f39b37-41e3-498b-9f6f-2d9ddf3d1d5b",
   "metadata": {},
   "outputs": [],
   "source": []
  },
  {
   "cell_type": "code",
   "execution_count": 4,
   "id": "8f99330a-a943-493e-b411-db73f085e1e7",
   "metadata": {},
   "outputs": [],
   "source": [
    "class ClassName:\n",
    "    #Body of the class\n",
    "    #should not be empty\n",
    "    pass "
   ]
  },
  {
   "cell_type": "code",
   "execution_count": 2,
   "id": "b0df1800-066f-42ea-8ac5-36156f453320",
   "metadata": {},
   "outputs": [
    {
     "name": "stdout",
     "output_type": "stream",
     "text": [
      "123\n",
      "123\n",
      "456\n",
      "123\n",
      "140552676437776\n",
      "140552676437200\n"
     ]
    }
   ],
   "source": [
    "class OurClass:\n",
    "    x=123\n",
    "\n",
    "oc1=OurClass() #First Object created\n",
    "oc2=OurClass() #Second Object created\n",
    "\n",
    "print(oc1.x)\n",
    "print(oc2.x)\n",
    "\n",
    "oc1.x=456\n",
    "\n",
    "print(oc1.x)   # ???\n",
    "print(oc2.x)   # ???\n",
    "\n",
    "print(id(oc1)) # ???\n",
    "print(id(oc2)) # ???\n"
   ]
  },
  {
   "cell_type": "code",
   "execution_count": 3,
   "id": "776061f2-0d8c-4195-adb5-615fbb26e7c6",
   "metadata": {},
   "outputs": [
    {
     "name": "stdout",
     "output_type": "stream",
     "text": [
      "----> 333\n",
      "123 is an odd number\n",
      "----> 333\n",
      "456 is an even number\n"
     ]
    }
   ],
   "source": [
    "class Check:\n",
    "    a=100\n",
    "    def __init__(self,n): #Similar to a constructor in C++/Java\n",
    "        self.n = n\n",
    "    def checking(self):   # This is called a method\n",
    "        print(\"---->\",Check.a)\n",
    "        if self.n % 2 == 0:\n",
    "            print(self.n,'is an even number')\n",
    "        else:\n",
    "            print(self.n,'is an odd number')\n",
    "\t\n",
    "    def ch(self):\n",
    "        Check.a=333\n",
    "\n",
    "x=Check(123)\n",
    "y=Check(456)\n",
    "x.ch()\n",
    "x.checking()\n",
    "y.checking()"
   ]
  },
  {
   "cell_type": "code",
   "execution_count": null,
   "id": "5861342f-121a-4cf6-ad37-334910cbb4b5",
   "metadata": {},
   "outputs": [],
   "source": []
  }
 ],
 "metadata": {
  "kernelspec": {
   "display_name": "Python 3 (ipykernel)",
   "language": "python",
   "name": "python3"
  },
  "language_info": {
   "codemirror_mode": {
    "name": "ipython",
    "version": 3
   },
   "file_extension": ".py",
   "mimetype": "text/x-python",
   "name": "python",
   "nbconvert_exporter": "python",
   "pygments_lexer": "ipython3",
   "version": "3.9.12"
  }
 },
 "nbformat": 4,
 "nbformat_minor": 5
}
