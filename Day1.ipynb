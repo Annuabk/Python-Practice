{
 "cells": [
  {
   "cell_type": "markdown",
   "id": "b26f9966-d021-4635-876d-cc95c85c95c1",
   "metadata": {},
   "source": [
    "A few examples for functions in Python"
   ]
  },
  {
   "cell_type": "code",
   "execution_count": 1,
   "id": "9939f69f-6529-42c0-b8e7-57a21c315aa1",
   "metadata": {},
   "outputs": [
    {
     "name": "stdout",
     "output_type": "stream",
     "text": [
      "5050\n"
     ]
    }
   ],
   "source": [
    "def intsum(n):\n",
    "    return sum(range(n+1))\n",
    "\n",
    "print(intsum(100))"
   ]
  },
  {
   "cell_type": "code",
   "execution_count": 8,
   "id": "8f3e4a69-f6e0-4e9f-a093-9b9c8407b932",
   "metadata": {},
   "outputs": [],
   "source": [
    "def foo(n):\n",
    "    print(n+n)"
   ]
  },
  {
   "cell_type": "code",
   "execution_count": 27,
   "id": "1e59383f-d689-49b5-b757-bfcd0da8fe7b",
   "metadata": {},
   "outputs": [
    {
     "name": "stdout",
     "output_type": "stream",
     "text": [
      "12341234\n",
      "2468\n",
      "[1, 2, 3, 4, 1, 2, 3, 4]\n",
      "(1, 2, 3, 4, 1, 2, 3, 4)\n"
     ]
    }
   ],
   "source": [
    "foo('1234')\n",
    "foo(1234)\n",
    "foo([1,2,3,4])\n",
    "foo((1,2,3,4))"
   ]
  },
  {
   "cell_type": "code",
   "execution_count": 2,
   "id": "a2efd52c-2dc3-4050-a877-a3f0294988e7",
   "metadata": {},
   "outputs": [
    {
     "name": "stdin",
     "output_type": "stream",
     "text": [
      "Enter a positive number:  123\n"
     ]
    },
    {
     "name": "stdout",
     "output_type": "stream",
     "text": [
      "123 is composite\n"
     ]
    }
   ],
   "source": [
    "n=int(input('Enter a positive number: '))\n",
    "if n > 1:\n",
    "    for i in range(2,n-1):\n",
    "        if n % i == 0:\n",
    "            print(n, \"is composite\")\n",
    "            break\n",
    "    else:     #Python for loops can also have else!                      \n",
    "        print(n, \"is prime\")\n",
    "else:         \n",
    "    print(n, \"is neither prime nor composite\")"
   ]
  },
  {
   "cell_type": "code",
   "execution_count": 3,
   "id": "c68f0691-706a-4436-9f7b-6dfa9ae4adab",
   "metadata": {},
   "outputs": [
    {
     "name": "stdin",
     "output_type": "stream",
     "text": [
      "Enter a number :  100\n"
     ]
    },
    {
     "name": "stdout",
     "output_type": "stream",
     "text": [
      "5050\n"
     ]
    }
   ],
   "source": [
    "def intsum(n):\n",
    "    if n==1:\n",
    "        return 1\n",
    "    else:\n",
    "        return n+intsum(n-1)\n",
    "\n",
    "x=int(input('Enter a number : '))\n",
    "print(intsum(x))"
   ]
  },
  {
   "cell_type": "code",
   "execution_count": 5,
   "id": "246401e0-9ace-4941-82d9-eaaef9c32b09",
   "metadata": {},
   "outputs": [
    {
     "name": "stdin",
     "output_type": "stream",
     "text": [
      "Enter a number :  10\n"
     ]
    },
    {
     "name": "stdout",
     "output_type": "stream",
     "text": [
      "3628800\n"
     ]
    }
   ],
   "source": [
    "def fact(n):\n",
    "    if n==1:\n",
    "        return 1\n",
    "    else:\n",
    "        return n*fact(n-1)\n",
    "\n",
    "x=int(input('Enter a number : '))\n",
    "print(fact(x))"
   ]
  },
  {
   "cell_type": "markdown",
   "id": "78426ef0-19bd-4da9-84c3-9f2a67457eb4",
   "metadata": {},
   "source": [
    "A few examples for classes in Python"
   ]
  },
  {
   "cell_type": "code",
   "execution_count": 4,
   "id": "424d296b-1b84-4d53-aaba-0cf15d8b435b",
   "metadata": {},
   "outputs": [],
   "source": [
    "class ClassName:\n",
    "    #Body of the class\n",
    "    #should not be empty\n",
    "    pass "
   ]
  },
  {
   "cell_type": "code",
   "execution_count": 2,
   "id": "b0df1800-066f-42ea-8ac5-36156f453320",
   "metadata": {},
   "outputs": [
    {
     "name": "stdout",
     "output_type": "stream",
     "text": [
      "123\n",
      "123\n",
      "456\n",
      "123\n",
      "140552676437776\n",
      "140552676437200\n"
     ]
    }
   ],
   "source": [
    "class OurClass:\n",
    "    x=123\n",
    "\n",
    "oc1=OurClass() #First Object created\n",
    "oc2=OurClass() #Second Object created\n",
    "\n",
    "print(oc1.x)\n",
    "print(oc2.x)\n",
    "\n",
    "oc1.x=456\n",
    "\n",
    "print(oc1.x)   # ???\n",
    "print(oc2.x)   # ???\n",
    "\n",
    "print(id(oc1)) # ???\n",
    "print(id(oc2)) # ???\n"
   ]
  },
  {
   "cell_type": "code",
   "execution_count": 10,
   "id": "caeaa6a1-a12a-4d33-9eee-c353a0368ac1",
   "metadata": {},
   "outputs": [
    {
     "name": "stdout",
     "output_type": "stream",
     "text": [
      "----> 333\n",
      "123 is an odd number\n",
      "----> 333\n",
      "456 is an even number\n"
     ]
    }
   ],
   "source": [
    "class Check:\n",
    "    a=100\n",
    "    def __init__(self,n): #Similar to a constructor in C++/Java\n",
    "        self.n = n\n",
    "    def checking(self):   # This is called a method\n",
    "        print(\"---->\",Check.a)\n",
    "        if self.n % 2 == 0:\n",
    "            print(self.n,'is an even number')\n",
    "        else:\n",
    "            print(self.n,'is an odd number')\n",
    "\n",
    "    def ch(self):\n",
    "        Check.a=333\n",
    "\n",
    "x=Check(123)\n",
    "y=Check(456)\n",
    "x.ch()\n",
    "x.checking()\n",
    "y.checking()"
   ]
  },
  {
   "cell_type": "markdown",
   "id": "5c882462-7c71-4cc2-8dfd-66ed6f3f1d47",
   "metadata": {},
   "source": [
    "Functional Programming with Python"
   ]
  },
  {
   "cell_type": "code",
   "execution_count": 11,
   "id": "fb0f7920-4ec4-4d9e-a26a-331a03cd8778",
   "metadata": {},
   "outputs": [],
   "source": [
    "lam = lambda n: n+n"
   ]
  },
  {
   "cell_type": "code",
   "execution_count": 12,
   "id": "cb67bff3-ae76-4400-b2b7-ed393b271978",
   "metadata": {},
   "outputs": [
    {
     "data": {
      "text/plain": [
       "246"
      ]
     },
     "execution_count": 12,
     "metadata": {},
     "output_type": "execute_result"
    }
   ],
   "source": [
    "lam(123)"
   ]
  },
  {
   "cell_type": "code",
   "execution_count": 13,
   "id": "274da5ac-011b-40c0-a0a7-31338819548b",
   "metadata": {},
   "outputs": [
    {
     "data": {
      "text/plain": [
       "'123123'"
      ]
     },
     "execution_count": 13,
     "metadata": {},
     "output_type": "execute_result"
    }
   ],
   "source": [
    "lam('123')"
   ]
  },
  {
   "cell_type": "code",
   "execution_count": 29,
   "id": "b6ba9434-08df-481a-a8f3-f5cdf004f62d",
   "metadata": {},
   "outputs": [],
   "source": [
    "def foo(n):\n",
    "    return lambda x: x**n"
   ]
  },
  {
   "cell_type": "code",
   "execution_count": 30,
   "id": "af572ad6-8f13-4c23-966b-223cd2833ba2",
   "metadata": {},
   "outputs": [],
   "source": [
    "square = foo(2)"
   ]
  },
  {
   "cell_type": "code",
   "execution_count": 31,
   "id": "ee4da801-1805-41d3-b354-1ae44abfe794",
   "metadata": {},
   "outputs": [
    {
     "name": "stdout",
     "output_type": "stream",
     "text": [
      "<function foo.<locals>.<lambda> at 0x7f77f9b5a8b0>\n"
     ]
    }
   ],
   "source": [
    "print(square)"
   ]
  },
  {
   "cell_type": "code",
   "execution_count": 32,
   "id": "6fd81b15-3b20-40fb-95f4-8483dac529c4",
   "metadata": {},
   "outputs": [
    {
     "data": {
      "text/plain": [
       "25"
      ]
     },
     "execution_count": 32,
     "metadata": {},
     "output_type": "execute_result"
    }
   ],
   "source": [
    "square(5)"
   ]
  },
  {
   "cell_type": "code",
   "execution_count": 33,
   "id": "ff70d8a1-d437-4c54-8100-032e24dbc070",
   "metadata": {},
   "outputs": [],
   "source": [
    "cube = foo(3)"
   ]
  },
  {
   "cell_type": "code",
   "execution_count": 34,
   "id": "780e9ed1-118c-402d-a5ac-6b2dd1168473",
   "metadata": {},
   "outputs": [
    {
     "data": {
      "text/plain": [
       "125"
      ]
     },
     "execution_count": 34,
     "metadata": {},
     "output_type": "execute_result"
    }
   ],
   "source": [
    "cube(5)"
   ]
  },
  {
   "cell_type": "code",
   "execution_count": null,
   "id": "56b9355f-246e-4de4-9503-b2e2a920de33",
   "metadata": {},
   "outputs": [],
   "source": []
  }
 ],
 "metadata": {
  "kernelspec": {
   "display_name": "Python 3 (ipykernel)",
   "language": "python",
   "name": "python3"
  },
  "language_info": {
   "codemirror_mode": {
    "name": "ipython",
    "version": 3
   },
   "file_extension": ".py",
   "mimetype": "text/x-python",
   "name": "python",
   "nbconvert_exporter": "python",
   "pygments_lexer": "ipython3",
   "version": "3.9.12"
  }
 },
 "nbformat": 4,
 "nbformat_minor": 5
}
