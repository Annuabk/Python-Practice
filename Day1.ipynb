{
  "nbformat": 4,
  "nbformat_minor": 0,
  "metadata": {
    "colab": {
      "provenance": [],
      "authorship_tag": "ABX9TyNelZOr2Aj3yUWsAqa8c3zn",
      "include_colab_link": true
    },
    "kernelspec": {
      "name": "python3",
      "display_name": "Python 3"
    },
    "language_info": {
      "name": "python"
    }
  },
  "cells": [
    {
      "cell_type": "markdown",
      "metadata": {
        "id": "view-in-github",
        "colab_type": "text"
      },
      "source": [
        "<a href=\"https://colab.research.google.com/github/DeepuBenson/Python/blob/main/Day1.ipynb\" target=\"_parent\"><img src=\"https://colab.research.google.com/assets/colab-badge.svg\" alt=\"Open In Colab\"/></a>"
      ]
    },
    {
      "cell_type": "markdown",
      "source": [],
      "metadata": {
        "id": "cggPnfEtqdt7"
      }
    },
    {
      "cell_type": "markdown",
      "source": [
        "# **Python: A multi paradigm programming language**"
      ],
      "metadata": {
        "id": "vmkihd8cqigs"
      }
    },
    {
      "cell_type": "markdown",
      "source": [
        "A few examples for functions in Python"
      ],
      "metadata": {
        "id": "K_tUCmMaqsbr"
      }
    },
    {
      "cell_type": "code",
      "source": [
        "def intsum(n):\n",
        "    return sum(range(n+1))\n",
        "\n",
        "print(intsum(100))"
      ],
      "metadata": {
        "colab": {
          "base_uri": "https://localhost:8080/"
        },
        "id": "EP8FTYffq3R2",
        "outputId": "49c9b636-8520-46f5-8ea3-57cb472d3c18"
      },
      "execution_count": 2,
      "outputs": [
        {
          "output_type": "stream",
          "name": "stdout",
          "text": [
            "5050\n"
          ]
        }
      ]
    },
    {
      "cell_type": "code",
      "source": [
        "def foo(n):\n",
        "    print(n+n)"
      ],
      "metadata": {
        "id": "b9TDrXqsq70O"
      },
      "execution_count": 3,
      "outputs": []
    },
    {
      "cell_type": "code",
      "source": [
        "foo('1234')\n",
        "foo(1234)\n",
        "foo([1,2,3,4])\n",
        "foo((1,2,3,4))"
      ],
      "metadata": {
        "colab": {
          "base_uri": "https://localhost:8080/"
        },
        "id": "ez0bX7GPrAj2",
        "outputId": "32fb5829-a412-4c2e-c77b-9c9fde71770c"
      },
      "execution_count": 4,
      "outputs": [
        {
          "output_type": "stream",
          "name": "stdout",
          "text": [
            "12341234\n",
            "2468\n",
            "[1, 2, 3, 4, 1, 2, 3, 4]\n",
            "(1, 2, 3, 4, 1, 2, 3, 4)\n"
          ]
        }
      ]
    },
    {
      "cell_type": "code",
      "source": [
        "n=int(input('Enter a positive number: '))\n",
        "if n > 1:\n",
        "    for i in range(2,n-1):\n",
        "        if n % i == 0:\n",
        "            print(n, \"is composite\")\n",
        "            break\n",
        "    else:     #Python for loops can also have else!                      \n",
        "        print(n, \"is prime\")\n",
        "else:         \n",
        "    print(n, \"is neither prime nor composite\")"
      ],
      "metadata": {
        "colab": {
          "base_uri": "https://localhost:8080/"
        },
        "id": "SeQSqCMgrKGM",
        "outputId": "48600274-6f81-4c7d-f951-1fa4d92bedc9"
      },
      "execution_count": 5,
      "outputs": [
        {
          "output_type": "stream",
          "name": "stdout",
          "text": [
            "Enter a positive number: 123\n",
            "123 is composite\n"
          ]
        }
      ]
    },
    {
      "cell_type": "code",
      "source": [
        "def intsum(n):\n",
        "    if n==1:\n",
        "        return 1\n",
        "    else:\n",
        "        return n+intsum(n-1)\n",
        "\n",
        "x=int(input('Enter a number : '))\n",
        "print(intsum(x))"
      ],
      "metadata": {
        "colab": {
          "base_uri": "https://localhost:8080/"
        },
        "id": "ABKh9OOGrRsw",
        "outputId": "5d2fccc4-f44c-4972-ffcb-025f1d2d9af2"
      },
      "execution_count": 6,
      "outputs": [
        {
          "output_type": "stream",
          "name": "stdout",
          "text": [
            "Enter a number : 122\n",
            "7503\n"
          ]
        }
      ]
    },
    {
      "cell_type": "code",
      "source": [
        "def fact(n):\n",
        "    if n==1:\n",
        "        return 1\n",
        "    else:\n",
        "        return n*fact(n-1)\n",
        "\n",
        "x=int(input('Enter a number : '))\n",
        "print(fact(x))"
      ],
      "metadata": {
        "colab": {
          "base_uri": "https://localhost:8080/"
        },
        "id": "dCA1dhpQr5oP",
        "outputId": "4c24d1f8-16c3-4960-fd90-fad3025ee74e"
      },
      "execution_count": 7,
      "outputs": [
        {
          "output_type": "stream",
          "name": "stdout",
          "text": [
            "Enter a number : 6\n",
            "720\n"
          ]
        }
      ]
    },
    {
      "cell_type": "markdown",
      "source": [
        "A few examples for classes in Python"
      ],
      "metadata": {
        "id": "Mf1YA6dlsEQY"
      }
    },
    {
      "cell_type": "code",
      "source": [
        "class ClassName:\n",
        "    #Body of the class\n",
        "    #should not be empty\n",
        "    pass "
      ],
      "metadata": {
        "id": "PfHJQwdFsHEJ"
      },
      "execution_count": 8,
      "outputs": []
    },
    {
      "cell_type": "code",
      "source": [
        "class OurClass:\n",
        "    x=123\n",
        "\n",
        "oc1=OurClass() #First Object created\n",
        "oc2=OurClass() #Second Object created\n",
        "\n",
        "print(oc1.x)\n",
        "print(oc2.x)\n",
        "\n",
        "oc1.x=456\n",
        "\n",
        "print(oc1.x)   # ???\n",
        "print(oc2.x)   # ???\n",
        "\n",
        "print(id(oc1)) # ???\n",
        "print(id(oc2)) # ???"
      ],
      "metadata": {
        "colab": {
          "base_uri": "https://localhost:8080/"
        },
        "id": "VgUGAZxHsPAS",
        "outputId": "3e1096eb-f69e-4187-906e-5689204b0abf"
      },
      "execution_count": 11,
      "outputs": [
        {
          "output_type": "stream",
          "name": "stdout",
          "text": [
            "123\n",
            "123\n",
            "456\n",
            "123\n",
            "140611706230624\n",
            "140611706230432\n"
          ]
        }
      ]
    },
    {
      "cell_type": "code",
      "source": [
        "class Check:\n",
        "    a=100\n",
        "    def __init__(self,n): #Similar to a constructor in C++/Java\n",
        "        self.n = n\n",
        "    def checking(self):   # This is called a method\n",
        "        print(\"---->\",Check.a)\n",
        "        if self.n % 2 == 0:\n",
        "            print(self.n,'is an even number')\n",
        "        else:\n",
        "            print(self.n,'is an odd number')\n",
        "\n",
        "    def ch(self):\n",
        "        Check.a=333\n",
        "\n",
        "x=Check(123)\n",
        "y=Check(456)\n",
        "x.ch()\n",
        "x.checking()\n",
        "y.checking()"
      ],
      "metadata": {
        "colab": {
          "base_uri": "https://localhost:8080/"
        },
        "id": "GnqdqC1esY3h",
        "outputId": "035af752-f493-4271-dfbe-0d22f8f03117"
      },
      "execution_count": 12,
      "outputs": [
        {
          "output_type": "stream",
          "name": "stdout",
          "text": [
            "----> 333\n",
            "123 is an odd number\n",
            "----> 333\n",
            "456 is an even number\n"
          ]
        }
      ]
    },
    {
      "cell_type": "markdown",
      "source": [
        "Functional Programming with Python"
      ],
      "metadata": {
        "id": "ZoT2AXN1sgho"
      }
    },
    {
      "cell_type": "code",
      "source": [
        "lam = lambda n: n+n"
      ],
      "metadata": {
        "id": "1YKeZqhFshn7"
      },
      "execution_count": 13,
      "outputs": []
    },
    {
      "cell_type": "code",
      "source": [
        "lam(123)"
      ],
      "metadata": {
        "colab": {
          "base_uri": "https://localhost:8080/"
        },
        "id": "U3A4nIbsslzX",
        "outputId": "93db8680-d5a4-4079-83fe-0f2ecff2edb8"
      },
      "execution_count": 14,
      "outputs": [
        {
          "output_type": "execute_result",
          "data": {
            "text/plain": [
              "246"
            ]
          },
          "metadata": {},
          "execution_count": 14
        }
      ]
    },
    {
      "cell_type": "code",
      "source": [
        "lam('123')"
      ],
      "metadata": {
        "colab": {
          "base_uri": "https://localhost:8080/",
          "height": 35
        },
        "id": "AfwLp2TDsrRr",
        "outputId": "f9d6da50-d70b-4dc8-bb6b-f15a6d6e436d"
      },
      "execution_count": 15,
      "outputs": [
        {
          "output_type": "execute_result",
          "data": {
            "text/plain": [
              "'123123'"
            ],
            "application/vnd.google.colaboratory.intrinsic+json": {
              "type": "string"
            }
          },
          "metadata": {},
          "execution_count": 15
        }
      ]
    },
    {
      "cell_type": "code",
      "source": [
        "def foo(n):\n",
        "    return lambda x: x**n"
      ],
      "metadata": {
        "id": "WlVAgxr-svUO"
      },
      "execution_count": 16,
      "outputs": []
    },
    {
      "cell_type": "code",
      "source": [
        "square = foo(2)"
      ],
      "metadata": {
        "id": "VcL8FpqlszTa"
      },
      "execution_count": 17,
      "outputs": []
    },
    {
      "cell_type": "code",
      "source": [
        "print(square)"
      ],
      "metadata": {
        "colab": {
          "base_uri": "https://localhost:8080/"
        },
        "id": "Nbwk3a9Xs3hO",
        "outputId": "662a22dd-63cd-42bd-b94e-4dfee147f363"
      },
      "execution_count": 18,
      "outputs": [
        {
          "output_type": "stream",
          "name": "stdout",
          "text": [
            "<function foo.<locals>.<lambda> at 0x7fe2b9f23b80>\n"
          ]
        }
      ]
    },
    {
      "cell_type": "code",
      "source": [
        "square(5)"
      ],
      "metadata": {
        "colab": {
          "base_uri": "https://localhost:8080/"
        },
        "id": "_kPwv78ds7Vl",
        "outputId": "08acb521-493f-4f9a-9feb-aa4de2b8d7db"
      },
      "execution_count": 19,
      "outputs": [
        {
          "output_type": "execute_result",
          "data": {
            "text/plain": [
              "25"
            ]
          },
          "metadata": {},
          "execution_count": 19
        }
      ]
    },
    {
      "cell_type": "code",
      "source": [
        "cube = foo(3)"
      ],
      "metadata": {
        "id": "UdC-rFURs-8E"
      },
      "execution_count": 20,
      "outputs": []
    },
    {
      "cell_type": "code",
      "source": [
        "cube(5)"
      ],
      "metadata": {
        "colab": {
          "base_uri": "https://localhost:8080/"
        },
        "id": "2gaIX1WftCUQ",
        "outputId": "4a649dcf-8080-4973-d954-ee69b013ac67"
      },
      "execution_count": 21,
      "outputs": [
        {
          "output_type": "execute_result",
          "data": {
            "text/plain": [
              "125"
            ]
          },
          "metadata": {},
          "execution_count": 21
        }
      ]
    }
  ]
}