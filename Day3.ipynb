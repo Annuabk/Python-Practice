{
  "nbformat": 4,
  "nbformat_minor": 0,
  "metadata": {
    "colab": {
      "provenance": [],
      "authorship_tag": "ABX9TyMPrZlMV4hweY0cEGrQnp9s",
      "include_colab_link": true
    },
    "kernelspec": {
      "name": "python3",
      "display_name": "Python 3"
    },
    "language_info": {
      "name": "python"
    }
  },
  "cells": [
    {
      "cell_type": "markdown",
      "metadata": {
        "id": "view-in-github",
        "colab_type": "text"
      },
      "source": [
        "<a href=\"https://colab.research.google.com/github/DeepuBenson/Python/blob/main/Day3.ipynb\" target=\"_parent\"><img src=\"https://colab.research.google.com/assets/colab-badge.svg\" alt=\"Open In Colab\"/></a>"
      ]
    },
    {
      "cell_type": "code",
      "source": [
        "import numba"
      ],
      "metadata": {
        "id": "BLvUqabr1CPH"
      },
      "execution_count": 49,
      "outputs": []
    },
    {
      "cell_type": "code",
      "source": [
        "%time\n",
        "@numba.jit\n",
        "def fun():\n",
        "    y=0\n",
        "    for i in range(1,10):\n",
        "        x=i**i\n",
        "        y=y+x\n",
        "    print(y)\n",
        "fun()"
      ],
      "metadata": {
        "colab": {
          "base_uri": "https://localhost:8080/"
        },
        "id": "sl54vloq04Vr",
        "outputId": "e1a91a24-b362-4dd7-e7dc-68a9e3623266"
      },
      "execution_count": 62,
      "outputs": [
        {
          "output_type": "stream",
          "name": "stdout",
          "text": [
            "CPU times: user 4 µs, sys: 0 ns, total: 4 µs\n",
            "Wall time: 8.82 µs\n",
            "405071317\n"
          ]
        }
      ]
    },
    {
      "cell_type": "code",
      "source": [
        "%time\n",
        "def fun():\n",
        "    y=0\n",
        "    for i in range(1,10):\n",
        "        x=i**i\n",
        "        y=y+x\n",
        "    print(y)\n",
        "fun()"
      ],
      "metadata": {
        "colab": {
          "base_uri": "https://localhost:8080/"
        },
        "id": "JaoeaCtA1FIu",
        "outputId": "3098730e-1939-4b8d-ce1b-6987c97eac1c"
      },
      "execution_count": 63,
      "outputs": [
        {
          "output_type": "stream",
          "name": "stdout",
          "text": [
            "CPU times: user 5 µs, sys: 1 µs, total: 6 µs\n",
            "Wall time: 12.6 µs\n",
            "405071317\n"
          ]
        }
      ]
    },
    {
      "cell_type": "markdown",
      "source": [
        "Matrix operations"
      ],
      "metadata": {
        "id": "3LKYpMyHZ_Xt"
      }
    },
    {
      "cell_type": "code",
      "source": [
        "from numpy import array\n",
        "from numpy.linalg import det\n",
        "# define matrix\n",
        "A = array([\n",
        "[1, 2, 3],\n",
        "[4, 5, 6],\n",
        "[7, 8, 8]])\n",
        "print(A)\n",
        "# calculate determinant\n",
        "B = det(A)\n",
        "print(B)"
      ],
      "metadata": {
        "colab": {
          "base_uri": "https://localhost:8080/"
        },
        "id": "TY_taeAMdNuW",
        "outputId": "1bb7cfc6-6504-415b-f5aa-48a915c2ba75"
      },
      "execution_count": 13,
      "outputs": [
        {
          "output_type": "stream",
          "name": "stdout",
          "text": [
            "[[1 2 3]\n",
            " [4 5 6]\n",
            " [7 8 8]]\n",
            "2.9999999999999996\n"
          ]
        }
      ]
    },
    {
      "cell_type": "code",
      "execution_count": 3,
      "metadata": {
        "colab": {
          "base_uri": "https://localhost:8080/"
        },
        "id": "we6WxGQlZQdi",
        "outputId": "c54e0742-4200-4543-bc57-a5ff506f95f8"
      },
      "outputs": [
        {
          "output_type": "stream",
          "name": "stdout",
          "text": [
            "[[ 1  4  7]\n",
            " [ 2  5  8]\n",
            " [ 3  6 88]]\n",
            "[[ 1  2  3]\n",
            " [ 4  5  6]\n",
            " [ 7  8 88]]\n",
            "94\n",
            "-237.00000000000009\n",
            "[[-1.65400844  0.64135021  0.01265823]\n",
            " [ 1.30801688 -0.28270042 -0.02531646]\n",
            " [ 0.01265823 -0.02531646  0.01265823]]\n",
            "[[ 1.00000000e+00 -3.81639165e-17  2.77555756e-17]\n",
            " [ 6.93889390e-17  1.00000000e+00  1.38777878e-16]\n",
            " [-1.66533454e-16 -9.71445147e-16  1.00000000e+00]]\n"
          ]
        }
      ],
      "source": [
        "import numpy as np\n",
        "A = np.array([[1,2,3],[4,5,6],[7,8,88]])\n",
        "B = np.array([[1,2,3],[4,5,6],[4,5,6]])\n",
        "print(A.T)\n",
        "print(A.T.T)\n",
        "print(np.trace(A))\n",
        "print(np.linalg.det(A))\n",
        "C=np.linalg.inv(A)\n",
        "print(C)\n",
        "print(A@C)"
      ]
    },
    {
      "cell_type": "code",
      "source": [
        "C1 = [20, 22, 20, 22, 22, 20]\n",
        "print(np.mean(C1), np.std(C1))"
      ],
      "metadata": {
        "colab": {
          "base_uri": "https://localhost:8080/"
        },
        "id": "s4qiympn79m2",
        "outputId": "3cab4293-44ef-4d5e-d0f4-403cf78637d9"
      },
      "execution_count": 91,
      "outputs": [
        {
          "output_type": "stream",
          "name": "stdout",
          "text": [
            "21.0 1.0\n"
          ]
        }
      ]
    },
    {
      "cell_type": "code",
      "source": [
        "C2 = [18, 16, 17, 16, 15, 48]\n",
        "print(np.mean(C2), np.std(C2))"
      ],
      "metadata": {
        "colab": {
          "base_uri": "https://localhost:8080/"
        },
        "id": "L9jGqpOp7yZn",
        "outputId": "65c584ec-8f0f-432b-b5bf-41b285b9fb16"
      },
      "execution_count": 89,
      "outputs": [
        {
          "output_type": "stream",
          "name": "stdout",
          "text": [
            "21.666666666666668 11.813363431112899\n"
          ]
        }
      ]
    },
    {
      "cell_type": "markdown",
      "source": [
        "SciPy\n",
        "\n",
        "![scipy.png](data:image/png;base64,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)"
      ],
      "metadata": {
        "id": "JfLTX3oCcP42"
      }
    },
    {
      "cell_type": "markdown",
      "source": [
        "Eigen values and Eigen vectors"
      ],
      "metadata": {
        "id": "HTxKnv4jb0qK"
      }
    },
    {
      "cell_type": "code",
      "source": [
        "from numpy import array\n",
        "import numpy as np\n",
        "from numpy.linalg import eig\n",
        "# define matrix\n",
        "A = array([\n",
        "[1, 2, 3],\n",
        "[4, 5, 6],\n",
        "[7, 8, 9]])\n",
        "print(A)\n",
        "print('########################')\n",
        "values, vectors = eig(A)\n",
        "print('########################')\n",
        "print(values)\n",
        "print('########################')\n",
        "print(vectors)\n",
        "print('########################')\n",
        "\n",
        "B = A.dot(vectors[:, 0])\n",
        "print(B)\n",
        "\n",
        "print('########################')\n",
        "C = vectors[:, 0] * values[0]\n",
        "print(C)\n"
      ],
      "metadata": {
        "colab": {
          "base_uri": "https://localhost:8080/"
        },
        "id": "spf5zzrjb4TN",
        "outputId": "f8963751-244a-4dda-b977-4b3cb9768220"
      },
      "execution_count": 11,
      "outputs": [
        {
          "output_type": "stream",
          "name": "stdout",
          "text": [
            "[[1 2 3]\n",
            " [4 5 6]\n",
            " [7 8 9]]\n",
            "########################\n",
            "########################\n",
            "[ 1.61168440e+01 -1.11684397e+00 -1.30367773e-15]\n",
            "########################\n",
            "[[-0.23197069 -0.78583024  0.40824829]\n",
            " [-0.52532209 -0.08675134 -0.81649658]\n",
            " [-0.8186735   0.61232756  0.40824829]]\n",
            "########################\n",
            "[ -3.73863537  -8.46653421 -13.19443305]\n",
            "########################\n",
            "[ -3.73863537  -8.46653421 -13.19443305]\n"
          ]
        }
      ]
    },
    {
      "cell_type": "markdown",
      "source": [
        "**Matrix Decomposition**"
      ],
      "metadata": {
        "id": "Vta0AXS_aDtM"
      }
    },
    {
      "cell_type": "markdown",
      "source": [
        "LUP decomposition"
      ],
      "metadata": {
        "id": "HLvU5NfuaRXi"
      }
    },
    {
      "cell_type": "code",
      "source": [
        "from numpy import array\n",
        "from scipy.linalg import lu\n",
        "# define a square matrix\n",
        "A = array([\n",
        "[0, 1],\n",
        "[1, 0]])\n",
        "print(A)\n",
        "P, L, U = lu(A)\n",
        "print('############')\n",
        "print(P)\n",
        "print('############')\n",
        "print(L)\n",
        "print('############')\n",
        "print(U)\n",
        "print('############')\n",
        "B = P.dot(L).dot(U)\n",
        "print(B)"
      ],
      "metadata": {
        "colab": {
          "base_uri": "https://localhost:8080/"
        },
        "id": "Of-H3gjkdAmg",
        "outputId": "fc129d3f-8bc4-426d-b6d1-707fcdf0f82f"
      },
      "execution_count": 12,
      "outputs": [
        {
          "output_type": "stream",
          "name": "stdout",
          "text": [
            "[[0 1]\n",
            " [1 0]]\n",
            "############\n",
            "[[0. 1.]\n",
            " [1. 0.]]\n",
            "############\n",
            "[[1. 0.]\n",
            " [0. 1.]]\n",
            "############\n",
            "[[1. 0.]\n",
            " [0. 1.]]\n",
            "############\n",
            "[[0. 1.]\n",
            " [1. 0.]]\n"
          ]
        }
      ]
    },
    {
      "cell_type": "markdown",
      "source": [
        "Singular Value Decomposition"
      ],
      "metadata": {
        "id": "ELeRB_U69p3H"
      }
    },
    {
      "cell_type": "code",
      "source": [
        "U, S, V = sp.linalg.svd(A)\n",
        "print(A)\n",
        "print(U@np.diag(S)@V)"
      ],
      "metadata": {
        "colab": {
          "base_uri": "https://localhost:8080/"
        },
        "id": "xH27QN2r9pPp",
        "outputId": "d2afb5b7-eda8-4ccd-f69a-ff4041b7df42"
      },
      "execution_count": 101,
      "outputs": [
        {
          "output_type": "stream",
          "name": "stdout",
          "text": [
            "[[1 2 3]\n",
            " [4 5 6]\n",
            " [7 8 8]]\n",
            "[[1. 2. 3.]\n",
            " [4. 5. 6.]\n",
            " [7. 8. 8.]]\n"
          ]
        }
      ]
    },
    {
      "cell_type": "markdown",
      "source": [
        "Eigenvalue decomposition"
      ],
      "metadata": {
        "id": "-xtxEgw48-63"
      }
    },
    {
      "cell_type": "code",
      "source": [
        "L, Q = sp.linalg.eig(A)\n",
        "print(L.T)\n",
        "print(Q)\n",
        "print(A)\n",
        "print(Q@np.diag(L)@sp.linalg.inv(Q))"
      ],
      "metadata": {
        "colab": {
          "base_uri": "https://localhost:8080/"
        },
        "id": "fSvA-tXL8-Wk",
        "outputId": "e1193d82-54d0-428c-94b2-c29d378d8520"
      },
      "execution_count": 98,
      "outputs": [
        {
          "output_type": "stream",
          "name": "stdout",
          "text": [
            "[15.55528261+0.j -1.41940876+0.j -0.13587385+0.j]\n",
            "[[-0.24043423 -0.67468642  0.51853459]\n",
            " [-0.54694322 -0.23391616 -0.78895962]\n",
            " [-0.80190056  0.70005819  0.32964312]]\n",
            "[[1 2 3]\n",
            " [4 5 6]\n",
            " [7 8 8]]\n",
            "[[1.+0.j 2.+0.j 3.+0.j]\n",
            " [4.+0.j 5.+0.j 6.+0.j]\n",
            " [7.+0.j 8.+0.j 8.+0.j]]\n"
          ]
        }
      ]
    },
    {
      "cell_type": "code",
      "source": [
        "import numpy as np\n",
        "import scipy as sp\n",
        "A=np.array([[11,22,33],[44,55,66],[77,88,888]])\n",
        "P, L, U = sp.linalg.lu(A)\n",
        "print(A)\n",
        "print(P)\n",
        "print(L)\n",
        "print(U)\n",
        "print(P@L@U)"
      ],
      "metadata": {
        "colab": {
          "base_uri": "https://localhost:8080/"
        },
        "id": "gTopkFKAaSOH",
        "outputId": "3d797147-1175-4077-d76f-52d25ba60e8f"
      },
      "execution_count": 10,
      "outputs": [
        {
          "output_type": "stream",
          "name": "stdout",
          "text": [
            "[[ 11  22  33]\n",
            " [ 44  55  66]\n",
            " [ 77  88 888]]\n",
            "[[0. 1. 0.]\n",
            " [0. 0. 1.]\n",
            " [1. 0. 0.]]\n",
            "[[1.         0.         0.        ]\n",
            " [0.14285714 1.         0.        ]\n",
            " [0.57142857 0.5        1.        ]]\n",
            "[[  77.           88.          888.        ]\n",
            " [   0.            9.42857143  -93.85714286]\n",
            " [   0.            0.         -394.5       ]]\n",
            "[[ 11.  22.  33.]\n",
            " [ 44.  55.  66.]\n",
            " [ 77.  88. 888.]]\n"
          ]
        }
      ]
    },
    {
      "cell_type": "markdown",
      "source": [
        "**OpenCV**\n",
        "\n",
        "![opencv.png](data:image/png;base64,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)"
      ],
      "metadata": {
        "id": "IFmSrOoubQV7"
      }
    },
    {
      "cell_type": "code",
      "source": [
        "import numpy as np\n",
        "m1 = np.random.randint(0, 256, size=(3, 3))\n",
        "print('Random Matrix 1 \\n', m1)\n",
        "m2 = np.random.randint(0, 256, size=(3, 3))\n",
        "print('Random Matrix 2 \\n', m2)"
      ],
      "metadata": {
        "colab": {
          "base_uri": "https://localhost:8080/"
        },
        "id": "cV3mdrGIipE3",
        "outputId": "288bd20d-27a7-4880-8759-e99f8d90b3dd"
      },
      "execution_count": 39,
      "outputs": [
        {
          "output_type": "stream",
          "name": "stdout",
          "text": [
            "Random Matrix 1 \n",
            " [[ 26  62  88]\n",
            " [128 158 169]\n",
            " [212  56  60]]\n",
            "Random Matrix 2 \n",
            " [[149  63 172]\n",
            " [ 21 134  58]\n",
            " [143  84 231]]\n"
          ]
        }
      ]
    },
    {
      "cell_type": "code",
      "source": [
        "import cv2"
      ],
      "metadata": {
        "id": "381cjdlWbPqg"
      },
      "execution_count": 14,
      "outputs": []
    },
    {
      "cell_type": "code",
      "source": [
        "r = np.random.randint(0, 256, size=(1000, 1000))"
      ],
      "metadata": {
        "id": "cO5k5G7EdzT8"
      },
      "execution_count": 15,
      "outputs": []
    },
    {
      "cell_type": "code",
      "source": [
        "g = np.random.randint(0,256, size=(1000, 1000))"
      ],
      "metadata": {
        "id": "SyBNm6yWd2oT"
      },
      "execution_count": 16,
      "outputs": []
    },
    {
      "cell_type": "code",
      "source": [
        "b = np.random.randint(0,256, size=(1000, 1000))"
      ],
      "metadata": {
        "id": "KD8GryS0d5c2"
      },
      "execution_count": 17,
      "outputs": []
    },
    {
      "cell_type": "code",
      "source": [
        "img1 = np.zeros([1000,1000,3], dtype=np.uint8)\n",
        "img1[:,:,0] = r\n",
        "img1[:,:,1] = g\n",
        "img1[:,:,2] = b"
      ],
      "metadata": {
        "id": "5HlA2BG5d9FN"
      },
      "execution_count": 18,
      "outputs": []
    },
    {
      "cell_type": "code",
      "source": [
        "print(img1)"
      ],
      "metadata": {
        "colab": {
          "base_uri": "https://localhost:8080/"
        },
        "id": "KbNyU38MeAft",
        "outputId": "2b98ae50-e220-4693-8116-c9c2090b1880"
      },
      "execution_count": 19,
      "outputs": [
        {
          "output_type": "stream",
          "name": "stdout",
          "text": [
            "[[[214  96 228]\n",
            "  [250 109 188]\n",
            "  [ 67  82  85]\n",
            "  ...\n",
            "  [151 122 184]\n",
            "  [ 55  80  64]\n",
            "  [184 107  80]]\n",
            "\n",
            " [[244  82 215]\n",
            "  [225  91 119]\n",
            "  [238  32  59]\n",
            "  ...\n",
            "  [124  77   6]\n",
            "  [  2   0  66]\n",
            "  [209  44  27]]\n",
            "\n",
            " [[152 233 149]\n",
            "  [245  85 125]\n",
            "  [ 28  96 175]\n",
            "  ...\n",
            "  [151 162  34]\n",
            "  [247  51 197]\n",
            "  [125  83  48]]\n",
            "\n",
            " ...\n",
            "\n",
            " [[195  61 237]\n",
            "  [157 128  50]\n",
            "  [118  74 185]\n",
            "  ...\n",
            "  [244 221  16]\n",
            "  [131  20  79]\n",
            "  [182  64 145]]\n",
            "\n",
            " [[148 122 137]\n",
            "  [ 16 122 228]\n",
            "  [ 92  72  67]\n",
            "  ...\n",
            "  [ 37 226  86]\n",
            "  [136  58 168]\n",
            "  [128  34 206]]\n",
            "\n",
            " [[110 239  41]\n",
            "  [ 16  64 183]\n",
            "  [213  55 113]\n",
            "  ...\n",
            "  [ 38 128  88]\n",
            "  [ 29 228 113]\n",
            "  [ 10 166 244]]]\n"
          ]
        }
      ]
    },
    {
      "cell_type": "code",
      "source": [
        "cv2.imwrite('img.jpg', img1)"
      ],
      "metadata": {
        "colab": {
          "base_uri": "https://localhost:8080/"
        },
        "id": "S8Nuh3yBeCil",
        "outputId": "a6f5d41a-d6bf-4e02-a152-a275d9cc8894"
      },
      "execution_count": 22,
      "outputs": [
        {
          "output_type": "execute_result",
          "data": {
            "text/plain": [
              "True"
            ]
          },
          "metadata": {},
          "execution_count": 22
        }
      ]
    },
    {
      "cell_type": "code",
      "source": [
        "import numpy as np\n",
        "import cv2\n",
        "r = np.random.randint(0, 256, size=(1000, 1000))\n",
        "g = np.random.randint(0, 256, size=(1000, 1000))\n",
        "b = np.random.randint(0, 256, size=(1000, 1000))\n",
        "img1 = np.zeros([1000,1000,3], dtype=np.uint8)\n",
        "#img1[:,:,0] = b\n",
        "#img1[:,:,1] = g\n",
        "#img1[:,:,2] = r\n",
        "print(img1)\n",
        "cv2.imwrite('image.jpg', img1)"
      ],
      "metadata": {
        "colab": {
          "base_uri": "https://localhost:8080/"
        },
        "id": "5VvhiW_Yee3f",
        "outputId": "458f0f73-f4ee-4a7c-fbf7-e419488846b4"
      },
      "execution_count": 29,
      "outputs": [
        {
          "output_type": "stream",
          "name": "stdout",
          "text": [
            "[[[0 0 0]\n",
            "  [0 0 0]\n",
            "  [0 0 0]\n",
            "  ...\n",
            "  [0 0 0]\n",
            "  [0 0 0]\n",
            "  [0 0 0]]\n",
            "\n",
            " [[0 0 0]\n",
            "  [0 0 0]\n",
            "  [0 0 0]\n",
            "  ...\n",
            "  [0 0 0]\n",
            "  [0 0 0]\n",
            "  [0 0 0]]\n",
            "\n",
            " [[0 0 0]\n",
            "  [0 0 0]\n",
            "  [0 0 0]\n",
            "  ...\n",
            "  [0 0 0]\n",
            "  [0 0 0]\n",
            "  [0 0 0]]\n",
            "\n",
            " ...\n",
            "\n",
            " [[0 0 0]\n",
            "  [0 0 0]\n",
            "  [0 0 0]\n",
            "  ...\n",
            "  [0 0 0]\n",
            "  [0 0 0]\n",
            "  [0 0 0]]\n",
            "\n",
            " [[0 0 0]\n",
            "  [0 0 0]\n",
            "  [0 0 0]\n",
            "  ...\n",
            "  [0 0 0]\n",
            "  [0 0 0]\n",
            "  [0 0 0]]\n",
            "\n",
            " [[0 0 0]\n",
            "  [0 0 0]\n",
            "  [0 0 0]\n",
            "  ...\n",
            "  [0 0 0]\n",
            "  [0 0 0]\n",
            "  [0 0 0]]]\n"
          ]
        },
        {
          "output_type": "execute_result",
          "data": {
            "text/plain": [
              "True"
            ]
          },
          "metadata": {},
          "execution_count": 29
        }
      ]
    },
    {
      "cell_type": "code",
      "source": [
        "import numpy as np\n",
        "import cv2\n",
        "red = np.random.randint(0, 256, size=(20, 20))\n",
        "green = np.zeros([20, 20], dtype=np.uint8)\n",
        "blue = np.zeros([20, 20], dtype=np.uint8)\n",
        "img1 = np.zeros([20,20,3], dtype=np.uint8)\n",
        "img1[:,:,0] = blue\n",
        "img1[:,:,1] = green\n",
        "img1[:,:,2] = red\n",
        "print(img1)\n",
        "print('########################################')\n",
        "cv2.imwrite('image_2.jpg', img1)\n",
        "hsv = cv2.cvtColor(img1, cv2.COLOR_RGB2HSV)\n",
        "print(hsv)"
      ],
      "metadata": {
        "colab": {
          "base_uri": "https://localhost:8080/"
        },
        "id": "rqHsMEzLgFIA",
        "outputId": "540f257d-dd7e-4de0-80d1-f1dfe672accd"
      },
      "execution_count": 41,
      "outputs": [
        {
          "output_type": "stream",
          "name": "stdout",
          "text": [
            "[[[  0   0   6]\n",
            "  [  0   0 169]\n",
            "  [  0   0 255]\n",
            "  ...\n",
            "  [  0   0 203]\n",
            "  [  0   0  65]\n",
            "  [  0   0 117]]\n",
            "\n",
            " [[  0   0  22]\n",
            "  [  0   0  52]\n",
            "  [  0   0  13]\n",
            "  ...\n",
            "  [  0   0 177]\n",
            "  [  0   0 218]\n",
            "  [  0   0 227]]\n",
            "\n",
            " [[  0   0 208]\n",
            "  [  0   0 184]\n",
            "  [  0   0 192]\n",
            "  ...\n",
            "  [  0   0 188]\n",
            "  [  0   0 131]\n",
            "  [  0   0 254]]\n",
            "\n",
            " ...\n",
            "\n",
            " [[  0   0 133]\n",
            "  [  0   0 220]\n",
            "  [  0   0 219]\n",
            "  ...\n",
            "  [  0   0 148]\n",
            "  [  0   0 219]\n",
            "  [  0   0  64]]\n",
            "\n",
            " [[  0   0 123]\n",
            "  [  0   0 189]\n",
            "  [  0   0 118]\n",
            "  ...\n",
            "  [  0   0 158]\n",
            "  [  0   0 153]\n",
            "  [  0   0  26]]\n",
            "\n",
            " [[  0   0 123]\n",
            "  [  0   0  51]\n",
            "  [  0   0 104]\n",
            "  ...\n",
            "  [  0   0  21]\n",
            "  [  0   0 108]\n",
            "  [  0   0 249]]]\n",
            "########################################\n",
            "[[[120 255   6]\n",
            "  [120 255 169]\n",
            "  [120 255 255]\n",
            "  ...\n",
            "  [120 255 203]\n",
            "  [120 255  65]\n",
            "  [120 255 117]]\n",
            "\n",
            " [[120 255  22]\n",
            "  [120 255  52]\n",
            "  [120 255  13]\n",
            "  ...\n",
            "  [120 255 177]\n",
            "  [120 255 218]\n",
            "  [120 255 227]]\n",
            "\n",
            " [[120 255 208]\n",
            "  [120 255 184]\n",
            "  [120 255 192]\n",
            "  ...\n",
            "  [120 255 188]\n",
            "  [120 255 131]\n",
            "  [120 255 254]]\n",
            "\n",
            " ...\n",
            "\n",
            " [[120 255 133]\n",
            "  [120 255 220]\n",
            "  [120 255 219]\n",
            "  ...\n",
            "  [120 255 148]\n",
            "  [120 255 219]\n",
            "  [120 255  64]]\n",
            "\n",
            " [[120 255 123]\n",
            "  [120 255 189]\n",
            "  [120 255 118]\n",
            "  ...\n",
            "  [120 255 158]\n",
            "  [120 255 153]\n",
            "  [120 255  26]]\n",
            "\n",
            " [[120 255 123]\n",
            "  [120 255  51]\n",
            "  [120 255 104]\n",
            "  ...\n",
            "  [120 255  21]\n",
            "  [120 255 108]\n",
            "  [120 255 249]]]\n"
          ]
        }
      ]
    },
    {
      "cell_type": "markdown",
      "source": [
        "**SymPy**\n",
        "\n",
        "![sp.jpeg](data:image/jpeg;base64,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)"
      ],
      "metadata": {
        "id": "Vbuvl6Wj6UmC"
      }
    },
    {
      "cell_type": "code",
      "source": [
        "from sympy import *\n",
        "sqrt(x)"
      ],
      "metadata": {
        "colab": {
          "base_uri": "https://localhost:8080/",
          "height": 37
        },
        "id": "9fY_tDst63UG",
        "outputId": "3af46320-899e-4012-94b7-945447e7c10d"
      },
      "execution_count": 88,
      "outputs": [
        {
          "output_type": "execute_result",
          "data": {
            "text/plain": [
              "sqrt(x)"
            ],
            "text/latex": "$\\displaystyle \\sqrt{x}$"
          },
          "metadata": {},
          "execution_count": 88
        }
      ]
    },
    {
      "cell_type": "code",
      "source": [
        "from sympy import *\n",
        "x = symbols('x')\n",
        "expr = x**2 / x**5\n",
        "print(expr)\n",
        "x**(-10)"
      ],
      "metadata": {
        "colab": {
          "base_uri": "https://localhost:8080/",
          "height": 68
        },
        "id": "KnwrFdD96hPh",
        "outputId": "82c2c0d3-eaae-4002-fd8d-ad3b38b812c4"
      },
      "execution_count": 79,
      "outputs": [
        {
          "output_type": "stream",
          "name": "stdout",
          "text": [
            "x**(-3)\n"
          ]
        },
        {
          "output_type": "execute_result",
          "data": {
            "text/plain": [
              "x**(-10)"
            ],
            "text/latex": "$\\displaystyle \\frac{1}{x^{10}}$"
          },
          "metadata": {},
          "execution_count": 79
        }
      ]
    },
    {
      "cell_type": "code",
      "source": [
        "from sympy import *\n",
        "x = symbols('x')\n",
        "a = Integral(sin(x)*cos(x)*tan(x), x)\n",
        "val = Eq(a, a.doit())\n",
        "val"
      ],
      "metadata": {
        "colab": {
          "base_uri": "https://localhost:8080/",
          "height": 56
        },
        "id": "4aHKTbMo6oni",
        "outputId": "885430d2-fb56-45b7-b8f9-c9dfd957c1d6"
      },
      "execution_count": 84,
      "outputs": [
        {
          "output_type": "execute_result",
          "data": {
            "text/plain": [
              "Eq(Integral(sin(x)*cos(x)*tan(x), x), x/2 - sin(x)*cos(x)/2)"
            ],
            "text/latex": "$\\displaystyle \\int \\sin{\\left(x \\right)} \\cos{\\left(x \\right)} \\tan{\\left(x \\right)}\\, dx = \\frac{x}{2} - \\frac{\\sin{\\left(x \\right)} \\cos{\\left(x \\right)}}{2}$"
          },
          "metadata": {},
          "execution_count": 84
        }
      ]
    },
    {
      "cell_type": "markdown",
      "source": [
        "**Theano**\n",
        "\n",
        "![theano.png](data:image/png;base64,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)"
      ],
      "metadata": {
        "id": "l7Fhf-UGyytc"
      }
    },
    {
      "cell_type": "markdown",
      "source": [
        "\n",
        "\n",
        "```\n",
        "import theano\n",
        "import theano.tensor as T \n",
        "from theano import function\n",
        " \n",
        "x, y = T.dscalars('x', 'y')\n",
        "a = x + y\n",
        "b = x - y\n",
        "c = x * y\n",
        "d = x / y\n",
        "f = function([x, y], [a, b, c, d])\n",
        "f(333, 222)\n",
        "```\n",
        "\n"
      ],
      "metadata": {
        "id": "bectQdOkzCj-"
      }
    },
    {
      "cell_type": "markdown",
      "source": [
        "\n",
        "\n",
        "```\n",
        "[array(555.), array(111.), array(73926.), array(1.5)]\n",
        "```\n",
        "\n"
      ],
      "metadata": {
        "id": "-3jSNziEzGmX"
      }
    },
    {
      "cell_type": "markdown",
      "source": [
        "\n",
        "\n",
        "```\n",
        "print(pp(a))\n",
        "\n",
        "```\n",
        "\n"
      ],
      "metadata": {
        "id": "s4jy3FNizLkG"
      }
    },
    {
      "cell_type": "markdown",
      "source": [
        "\n",
        "\n",
        "```\n",
        "(x + y)\n",
        "\n",
        "```\n",
        "\n"
      ],
      "metadata": {
        "id": "xYvFEvTJzVcy"
      }
    },
    {
      "cell_type": "markdown",
      "source": [
        "\n",
        "\n",
        "```\n",
        "x, y = T.imatrices('x', 'y')\n",
        "a = x + y\n",
        "b = x - y\n",
        "c = x.dot(y)\n",
        "f = function([x, y], [a, b, c])\n",
        "f([[1, 2],[3, 4]], [[5, 6],[7, 8]])\n",
        "\n",
        "```\n",
        "\n"
      ],
      "metadata": {
        "id": "M2hn44Lt0Z4U"
      }
    },
    {
      "cell_type": "markdown",
      "source": [
        "\n",
        "\n",
        "```\n",
        "[array([[ 6,  8],\n",
        "        [10, 12]], dtype=int32),\n",
        " array([[-4, -4],\n",
        "        [-4, -4]], dtype=int32),\n",
        " array([[19, 22],\n",
        "        [43, 50]], dtype=int32)]\n",
        "```\n",
        "\n"
      ],
      "metadata": {
        "id": "YQ2mcSd00drI"
      }
    },
    {
      "cell_type": "markdown",
      "source": [
        "**TensorFlow**\n",
        "\n",
        "![tf.png](data:image/png;base64,iVBORw0KGgoAAAANSUhEUgAAAYQAAACCCAMAAABxTU9IAAAA6lBMVEX///9CUGb/hQD/jQAsPlg3R1//igD/hwD/kx7/jwD/gwD/kgDu7/H/gQA/TWTf4eT/dQD3+Pmmq7NTX3I0RF3/mgD/+/U5SWD/lgBbZnd9hZOQl6L/egD/8uUrPVhGVGmzuL//nQD/ZwD/u27V19tqdITAw8nKzdL/cQDn6OuSmKN5gY+jqLFaZXdkbn+Ij5v/zKAWL07/49H/z63/kSv/3sP/olr/o0v/t4X/uHf/7+D/gyT/l1X/rEb/roH/xaj/0Jz/XwD/woX/iCz/t2P/qC//2a//nmn/nB//48n/wnj/rlQeNFH/n1Cw+gUQAAAKB0lEQVR4nO2cD3vaOBKHTZHTJoCDwaAQiHFSzP/AJt3t9bbdttvd29tcue//dU4ayZKMbQJeG7rXeZ8+LbZlWdJPmpFGri0LQRAEQRAEQRAEQRAEQRAEQRAEQRAEQRAEQRAEQRAEQRAEQRAEQRAE6cIf5JS8aVhW9YdTl+K75vHHxoVlvbp49dOpS/LdcvN28OLlCybC2dnFP34+dWm+T94NGi+kCNVq9cU/0TUcnTeNwcWFIcJ59Qxdw3F5/G3QuIiLcF6rXqFrOB43H5qNRlKEWq36C7qGI/FxOmiki8BkQNdwDD41m6BBqghXV7Xa51OX8P+ex/fTwWCXCEyGDrqGMrn5cDcYPCdCp1ND11AeH++ag31EYDK8RtdQCp+m0+a+Itx2Op9TsqjvwD12fSRuenH4pUvgROVK4/H9XbO5vwi3t53bpGt48EkWD+MTVIqz3KQWh7W9+8B/eScqVwrdX6fNw0S4vb1KmCSvkol3KhFadlpxCBeBwM8TlSuF7t3hInRQhGIpRgTiKERd9TE5sQhOnL+DCIN8IgzbClFzfTw8rQhGyUTxvn0Rpu8GaSKcfzmvmSLc7MiQwqCfHa0CmYAI9DrlyjctwvRt12qmiXDW7b6uHiTCNzD/+1uKMP3tkR2mi8Ba/edfaihCSUQiTJtv4DBTBMv6o3OVV4TZJAjGo6xl22gcBJPERX5PMEmzay7ckKUzu23C/z1MhDrkeSIrKkSY3n2UhztEsKzPtU4OEdylQzyOH070WX6KsCaaXftEXEzeY7Mkdn+rZcY9cQPx1saVNpxjSzT+7wNfFx8iQtD2oYSEzuvy1JKf2agCzzbs6lrdMIQi72iGg+AiTO8+RM26WwSr+/vVwSIExJbz1opDVqrDU3aSLqzWhkYXN4G+x9eTfOr3jexHQ8/RV3Sr3POzxAphxUIOE2Hi6Dxtfy5OXvJE9lKVyOOzXZWDn5V3LpgId+8f9eFuESzr6V+dw0S4JuZaiTp1I50Tzs2rftTv1rF7Kl5P5Rb4jnnFbkei9vh5py9WjYeJsIznGT0NCriKEoWOWa0Jf05xy9Dur3efzMNUEWo1Y6//j9urA0S4hmZxmGER48EZmukc9je15aWKI9ulBY3keD7xRRe1F/KmsS8SMlsghgqNsgMRKnJUHSSCeFqFsjzF7bZQYU1hbMlb4MFqYCz5Nb++nXFeuv+OrbyyRDj/80kn+s+uXYW4CAHU0K4sJ5OgB3p4cyMdt1DXraAVioYgMBTqosIhc+TupE31BWsmNCBhMBnPKTX16UW92WbO4hCfMII8HX/B8xQyeGDlxtDbRyLVWPSltsxh5RgHhZMlwlWt+nVX/9fERBDV9WRLCEVkB5K9biWORlBJCtY/3norsDOh/q0aRgwyacOkCNRZjkeTwE1kYxIToQ35V0SB3RAGmM+PoC/YLfksUdyo88Ol+V7tkYNMERjnX/bZ0ImJMLd1C0aHsl7CHCmbC03m3POfCxpZFI7o/WAWRkS1kKUSyg4pRPC0p5Y5roKWwRJciCnCmFTMp5mac3misst5ghdYqiCeMdUrll0idGqv98ghJgKU3YhheLrVxMBXlRc2CGL8MNHR0X7biyad0B2NDuh6WhQQgS4sjYgdObbJQ0IEaHTZtroc0OOhywinAK2uNQn0lTLYKcLVlz1yMEWASYQeCLLv+q5KZ+tLthIBJiKRzTHZ6rTRyAJvCSLEQlZpoWyyLYKrx5kElAZVoOVFTfiDHD4yiKqGWa2C2S3CoSNhace7mWgYMlLpDBGGSoSl6MKJ0Q4zd6dnnBEdFEyaEMGcr+wlAnST2AASZ8CVEFV61v5Ob2xHNoga3qIEihUhhF41qc8kdWgYMb9OiKCMkLAIFW+4jAc6AmiemDskqh9nieB4Jglz1LK327NOlMnkQxLk4H7JXvJRQ7nTmekhUgrFitAW3lLv8Nrau2WLYLXkasD2/Pu5NkswQuzAfBjcBN07QwTmmGNsiwCLgfiqy1NDEkw/lT9Ylbiz4otmmK/SPdoiJ8WKkLQHFdWOO0SwWhsV6LAJXcrxME822L1q+gwRnpuiCg8Q8z9DZbfA/vkz6aVEjrxmfVpkzCJJhgjVWi4RYuGAA0SwLleE6vQ+3AB1L0WEuGXRowvKzx4IdqgvROHTAD7Ay9w6Txeh+vS1ml8Eb+utk01LpcsSgVW4XyEelSoScARzOyFCu4SRICoAP7mxYl6Amx9Ys7MyMm8BtxcXs0iSGcB7+pMNhlw+wRtdblFX6bJFYMyCdUUOCJ83fSvpE8T6lv/KKUKKsL4uGG99ZwhKeVFqv87nT+XFLKydUdQfagcv1kToMWXGb+0jAudSBFQh7Cf8oRnXhpmMcJE5RQj0SiN6IsyO7kVCHyyTHeXDp8TemGdcXszC2h3K7r7+fY8cTBHmiSpupXtWBBWrmMmZYawLGrP8nCKMtpeTciIspeZDmXJfJAcLX6QtFk6ZMQvruf2EQ2NHYsWcvpmbKcJ8FYZhTzenMNu80o6RNbBQq9u8Ilg6SiHpOYaBgpC1XuWDk3CUCSyLZzd1niUWOxJzbnMo9MdmulQRPP6Olu5pYtnNj2FgUd1tZ0YL5hUBJKY67jfS6z8rCu7qsTLZOi6HgkWY28qtyhNEzjezRZhsRScgxMbNURTka8Vukc2cV4RLETyKSlgXm0jK4sstPhV6EcvIMmMWVuEiuHK7cS1aZ9Jmx1KFbJ8Q30xbGiatL6KyfbANoyGNvIWVXwRh0ipEjNaJeI2TqHDJQs7OZlvHpb7SU7AI1mQDhaakfb0ObdispD2dLlUEsYdJvXUwHi/bYuc+MBJVbLJaXw+JaC/ZJ3OL4Iq9VdsL19cVsZtqjNxABKDUbEDssFWcRJ5FUrQIViAHsEPlyivaFd4xO1obu76ihaK9n7p8LULlpnZxcovA5qRbefrG9HMmtmeVVxOhb8OHlEHhIjATrwMQfEs5NNNlTFHn8fcfiHaD9aH5Fr6j2yu/CNalY8fyjNn7Suwti2izo9yXnP+6CJ5NKd0YNrN+7UdvU1DPGZvpbGM3xeHHciZoje6Ne2hg5j/35UsRDrNxeh3YhseaIiwJO+OZWwUR7oZdsXUY1F2rp9n+Km7u114sKRvZ288pnr8uQp+zjr01V2+FNg8aDdeT7XT6eB4/vpzfE3HPdq9zg5DyK+2+uRRfwu1m44zX/FSQUkQXrsSW3q0QIlzt+bbHHa3jmdT5cZnLZasIETJw3cP/A2H2PXlyy/+0Y1OaCMj+dKdpIrxEEY7K22ZChPOzr/g/yI/L449bH506e/X0/F1IwbxpGJ9fO3uJ3/06De8GF9GHCPEzRyfj5r8D/knOBn4L8qT8dMZEwO8bIQiCIAiCIAiCIAiCIAiCIAiCIAiCIAiCIAiCIAiCIAiCIAiCIAiCIMi3w/8AsLkdiB9OXHIAAAAASUVORK5CYII=)\n"
      ],
      "metadata": {
        "id": "dfSfe6OL4wVB"
      }
    },
    {
      "cell_type": "code",
      "source": [
        "import tensorflow as tf\n",
        "x = tf.constant([-111.0, -222.0, 0.0, 333.0, 444.5], dtype=tf.float32)\n",
        "print(tf.nn.relu(x))\n",
        "print(tf.nn.leaky_relu(x))"
      ],
      "metadata": {
        "colab": {
          "base_uri": "https://localhost:8080/"
        },
        "id": "MuLUzLW25BmS",
        "outputId": "c5370ded-319f-41e7-e84d-516258155348"
      },
      "execution_count": 64,
      "outputs": [
        {
          "output_type": "stream",
          "name": "stdout",
          "text": [
            "tf.Tensor([  0.    0.    0.  333.  444.5], shape=(5,), dtype=float32)\n",
            "tf.Tensor([-22.2 -44.4   0.  333.  444.5], shape=(5,), dtype=float32)\n"
          ]
        }
      ]
    },
    {
      "cell_type": "markdown",
      "source": [
        "**Linear Regression**"
      ],
      "metadata": {
        "id": "tBZO8L3Y5TCc"
      }
    },
    {
      "cell_type": "code",
      "source": [
        "import numpy as np\n",
        "import matplotlib.pyplot as plt\n",
        "\n",
        "a = 10\n",
        "b = 1\n",
        "x = np.linspace(0,1,100)\n",
        "y = a*x+b+np.random.randn(len(x))\n",
        "plt.scatter(x, y, color = \"r\", marker = \"x\")\n",
        "p = np.polyfit(x, y,1) \n",
        "print(type(p))\n",
        "y_l = np.polyval(p,x)\n",
        "plt.plot(x,y_l,color = \"b\",)\n",
        "plt.show()"
      ],
      "metadata": {
        "colab": {
          "base_uri": "https://localhost:8080/",
          "height": 282
        },
        "id": "SuVOF7yg5WTW",
        "outputId": "d7614d1a-19ab-4e4e-dd75-8a53477df3c6"
      },
      "execution_count": 65,
      "outputs": [
        {
          "output_type": "stream",
          "name": "stdout",
          "text": [
            "<class 'numpy.ndarray'>\n"
          ]
        },
        {
          "output_type": "display_data",
          "data": {
            "text/plain": [
              "<Figure size 432x288 with 1 Axes>"
            ],
            "image/png": "[encoded data removed]"
          },
          "metadata": {
            "needs_background": "light"
          }
        }
      ]
    },
    {
      "cell_type": "code",
      "source": [
        "import numpy as np\n",
        "import matplotlib.pyplot as plt\n",
        "from scipy import stats\n",
        "a = 10\n",
        "b = 1\n",
        "x = np.linspace(0,1,100)\n",
        "y = a*x+b+np.random.randn(len(x))\n",
        "plt.scatter(x, y, color = \"y\", marker = \"o\")\n",
        "m, c, r, p, std_err = stats.linregress(x, y)\n",
        "y_l = list(m*x+c)\n",
        "plt.plot(x,y_l,color = \"g\",)\n",
        "plt.show()"
      ],
      "metadata": {
        "colab": {
          "base_uri": "https://localhost:8080/",
          "height": 265
        },
        "id": "q5e3Li2k5YKd",
        "outputId": "1aaa46b0-f66c-43af-d771-92e319f86efb"
      },
      "execution_count": 66,
      "outputs": [
        {
          "output_type": "display_data",
          "data": {
            "text/plain": [
              "<Figure size 432x288 with 1 Axes>"
            ],
            "image/png": "[encoded data removed]"
          },
          "metadata": {
            "needs_background": "light"
          }
        }
      ]
    },
    {
      "cell_type": "markdown",
      "source": [
        "**Probability**"
      ],
      "metadata": {
        "id": "NoiOZTjE5xEV"
      }
    },
    {
      "cell_type": "code",
      "source": [
        "import random\n",
        "n=100000\n",
        "ct=0\n",
        "for i in range(n):\n",
        "    if random.randint(1, 6) == 6:\n",
        "        ct=ct+1 \n",
        "print(ct/n)\n",
        "print(1/6)"
      ],
      "metadata": {
        "colab": {
          "base_uri": "https://localhost:8080/"
        },
        "id": "BJG4L_KY54Lf",
        "outputId": "23f6d271-3ec4-4fe2-bc25-96caf88f7777"
      },
      "execution_count": 68,
      "outputs": [
        {
          "output_type": "stream",
          "name": "stdout",
          "text": [
            "0.16629\n",
            "0.16666666666666666\n"
          ]
        }
      ]
    },
    {
      "cell_type": "code",
      "source": [
        "print([random.choice([\"Heads\", \"Tails\"]) for i in range(3)])"
      ],
      "metadata": {
        "colab": {
          "base_uri": "https://localhost:8080/"
        },
        "id": "8L-36cdn56CJ",
        "outputId": "1362edb6-7a51-4e19-b031-d0957402ab6e"
      },
      "execution_count": 71,
      "outputs": [
        {
          "output_type": "stream",
          "name": "stdout",
          "text": [
            "['Heads', 'Tails', 'Heads']\n"
          ]
        }
      ]
    },
    {
      "cell_type": "markdown",
      "source": [
        "**Probability Distributions**"
      ],
      "metadata": {
        "id": "pmMj2VgN5hdB"
      }
    },
    {
      "cell_type": "code",
      "source": [
        "import numpy as np\n",
        "import matplotlib.pyplot as plt\n",
        "from scipy.stats import norm\n",
        "x_axis = np.arange(-20, 20, 0.01)\n",
        "mean = np.mean(x_axis)\n",
        "sd = np.std(x_axis)\n",
        "  \n",
        "plt.plot(x_axis, norm.pdf(x_axis, mean, sd))\n",
        "plt.show()"
      ],
      "metadata": {
        "colab": {
          "base_uri": "https://localhost:8080/",
          "height": 265
        },
        "id": "J2IYvLbm8GNN",
        "outputId": "9e55e82f-881d-452f-c260-44e6b43ffabe"
      },
      "execution_count": 92,
      "outputs": [
        {
          "output_type": "display_data",
          "data": {
            "text/plain": [
              "<Figure size 432x288 with 1 Axes>"
            ],
            "image/png": "[encoded data removed]"
          },
          "metadata": {
            "needs_background": "light"
          }
        }
      ]
    },
    {
      "cell_type": "code",
      "source": [
        "from numpy import random\n",
        "import matplotlib.pyplot as plt\n",
        "import seaborn as sns\n",
        "\n",
        "binom=random.binomial(n=1000, p=0.01, size=1000)\n",
        "sns.histplot(data=binom, kde=True, color='r')\n",
        "po=random.poisson(lam=10, size=1000)\n",
        "sns.histplot(data=po, kde=True, color='g')\n",
        "exp=random.exponential(size=1000)\n",
        "sns.histplot(data=exp, kde=True, color='b')\n",
        "plt.show()"
      ],
      "metadata": {
        "colab": {
          "base_uri": "https://localhost:8080/",
          "height": 265
        },
        "id": "2E_BfSH-5ern",
        "outputId": "03ef55c6-d433-4d23-b600-b53dead7d171"
      },
      "execution_count": 67,
      "outputs": [
        {
          "output_type": "display_data",
          "data": {
            "text/plain": [
              "<Figure size 432x288 with 1 Axes>"
            ],
            "image/png": "[encoded data removed]"
          },
          "metadata": {
            "needs_background": "light"
          }
        }
      ]
    }
  ]
}